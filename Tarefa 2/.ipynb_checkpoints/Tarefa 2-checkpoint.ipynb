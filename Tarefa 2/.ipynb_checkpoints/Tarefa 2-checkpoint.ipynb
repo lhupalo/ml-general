{
 "cells": [
  {
   "cell_type": "markdown",
   "metadata": {},
   "source": [
    "Universidade Federal de Santa Catarina<br>\n",
    "Departamento de Engenharia Elétrica e Eletrônica<br>\n",
    "EEL7514/EEL7513 - Introdução ao Aprendizado de Máquina\n",
    "$\\newcommand{\\bX}{\\mathbf{X}}$\n",
    "$\\newcommand{\\bw}{\\mathbf{w}}$\n",
    "$\\newcommand{\\by}{\\mathbf{y}}$\n",
    "$\\newcommand{\\bx}{\\mathbf{x}}$\n",
    "$\\newcommand{\\RR}{\\mathbb{R}}$\n",
    "\n",
    "## Aluno:  Luiz Eduardo Hupalo 17203887\n",
    "\n",
    "\n",
    "\n",
    "# Tarefa 2: Regressão Linear"
   ]
  },
  {
   "cell_type": "markdown",
   "metadata": {},
   "source": [
    "# Conjunto de dados\n",
    "\n",
    "Para facilitar a análise, o conjunto de dados utilizado neste exercício possui um único atributo $x \\in \\RR$ (e um valor-alvo $y \\in \\RR$). Além desta peculiaridade, é importante ressaltar duas grandes diferenças em relação ao que se encontra em problemas reais:\n",
    "- O conjunto de dados é sintético, isto é, gerado por simulação;\n",
    "- O conjunto de treinamento tem tamanho **muito menor** que os conjuntos de validação e teste.\n",
    "\n",
    "A razão para esta escolha é que um conjunto de treinamento pequeno nos permitirá observar mais facilmente o fenômeno de overfitting, enquanto conjuntos de validação e teste suficientemente grandes nos permitirá ter confiança na estimativa de desempenho do modelo medida nestes conjuntos."
   ]
  },
  {
   "cell_type": "code",
   "execution_count": 1,
   "metadata": {},
   "outputs": [],
   "source": [
    "import numpy as np\n",
    "import matplotlib.pyplot as plt\n",
    "%matplotlib inline\n",
    "\n",
    "def gen_data(n_samples, x_scale=[0,1], noise=0.5):\n",
    "    '''Generate univariate regression dataset'''\n",
    "    x = np.sort(np.random.rand(n_samples))\n",
    "    y = 6*(-1/6 + x + (x > 1/3)*(2/3-2*x) + (x > 2/3)*(2*x-4/3)) + noise*np.random.randn(n_samples)\n",
    "    x = x_scale[0] + (x_scale[1]-x_scale[0])*x\n",
    "    X = x.reshape(-1,1)\n",
    "    return X, y\n",
    "\n",
    "def plot_data(X, y):\n",
    "    '''Plot univariate regression dataset'''\n",
    "    assert len(X.shape) == 2 and len(y.shape) == 1\n",
    "    plt.plot(X[:,0],y,'b.'); plt.xlabel('x'); plt.ylabel('y');\n",
    "    return\n",
    "\n",
    "def plot_prediction(model, X, y, n_points=100):\n",
    "    '''Plot dataset and predictions for a univariate regression model'''\n",
    "    plot_data(X,y)\n",
    "    if n_points is not None:\n",
    "        xx = np.linspace(X.min(),X.max(),n_points)\n",
    "        yy = model.predict(xx.reshape(-1,1))\n",
    "        plt.plot(xx,yy,'r-')\n",
    "    y_pred = model.predict(X)\n",
    "    plt.plot(X[:,0],y_pred,'r.')\n",
    "    plt.legend(['True', 'Predicted'])\n",
    "    return"
   ]
  },
  {
   "cell_type": "markdown",
   "metadata": {},
   "source": [
    "Gerando o conjunto de dados:"
   ]
  },
  {
   "cell_type": "code",
   "execution_count": 2,
   "metadata": {},
   "outputs": [
    {
     "name": "stdout",
     "output_type": "stream",
     "text": [
      "(30, 1) (30,)\n",
      "(1000, 1) (1000,)\n",
      "(1000, 1) (1000,)\n"
     ]
    },
    {
     "data": {
      "image/png": "[encoded data removed]",
      "text/plain": [
       "<Figure size 432x288 with 1 Axes>"
      ]
     },
     "metadata": {
      "needs_background": "light"
     },
     "output_type": "display_data"
    }
   ],
   "source": [
    "np.random.seed(2019*2)\n",
    "X, y = gen_data(n_samples=30)\n",
    "X_val, y_val = gen_data(n_samples=1000)\n",
    "X_test, y_test = gen_data(n_samples=1000)\n",
    "\n",
    "print(X.shape, y.shape)\n",
    "print(X_val.shape, y_val.shape)\n",
    "print(X_test.shape, y_test.shape)\n",
    "\n",
    "# Plot only the training data!\n",
    "plot_data(X,y)"
   ]
  },
  {
   "cell_type": "markdown",
   "metadata": {},
   "source": [
    "# Regressão linear simples\n",
    "\n",
    "\n",
    "- Treine um modelo de regressão linear simples, $\\hat{y} = w_0 + w_1 x$, sobre o conjunto de treinamento\n",
    "- Calcule o erro quadrático médio (MSE) da predição sobre o conjunto de treinamento e sobre o conjunto de teste\n",
    "- Trace o gráfico da predição sobre o conjunto de treinamento\n",
    "- Você diria que o modelo treinado está sofrendo de underfitting, overfitting ou nenhum dos dois? Explique.\n",
    "- (OPCIONAL) Experimente também a função `model.score()` do sklearn. Qual a relação entre este valor e o MSE? É possível calcular um a partir do outro? Como?\n",
    "\n",
    "#### Funções úteis:\n",
    "```python\n",
    "sklearn.linear_model.LinearRegression()\n",
    "sklearn.metrics.mean_squared_error()\n",
    "plot_prediction() # fornecida acima\n",
    "```"
   ]
  },
  {
   "cell_type": "markdown",
   "metadata": {},
   "source": [
    "Treinando o modelo e plotando seu resultado:"
   ]
  },
  {
   "cell_type": "code",
   "execution_count": 3,
   "metadata": {},
   "outputs": [
    {
     "data": {
      "image/png": "[encoded data removed]",
      "text/plain": [
       "<Figure size 432x288 with 1 Axes>"
      ]
     },
     "metadata": {
      "needs_background": "light"
     },
     "output_type": "display_data"
    }
   ],
   "source": [
    "from sklearn.linear_model import LinearRegression\n",
    "\n",
    "model = LinearRegression().fit(X,y)\n",
    "plot_prediction(model,X,y)\n"
   ]
  },
  {
   "cell_type": "markdown",
   "metadata": {},
   "source": [
    "MSE no conjunto de treinamento:"
   ]
  },
  {
   "cell_type": "code",
   "execution_count": 4,
   "metadata": {},
   "outputs": [
    {
     "data": {
      "text/plain": [
       "0.517264352011368"
      ]
     },
     "execution_count": 4,
     "metadata": {},
     "output_type": "execute_result"
    }
   ],
   "source": [
    "from sklearn.metrics import mean_squared_error\n",
    "\n",
    "y_pred = model.predict(X)\n",
    "mean_squared_error(y,y_pred)"
   ]
  },
  {
   "cell_type": "markdown",
   "metadata": {},
   "source": [
    "MSE no conjunto de teste:"
   ]
  },
  {
   "cell_type": "code",
   "execution_count": 5,
   "metadata": {},
   "outputs": [
    {
     "data": {
      "text/plain": [
       "0.5981907941434731"
      ]
     },
     "execution_count": 5,
     "metadata": {},
     "output_type": "execute_result"
    }
   ],
   "source": [
    "y_predt = model.predict(X_test)\n",
    "mean_squared_error(y_test,y_predt)"
   ]
  },
  {
   "cell_type": "markdown",
   "metadata": {},
   "source": [
    "Plot da predição para o conjunto de teste:"
   ]
  },
  {
   "cell_type": "code",
   "execution_count": 6,
   "metadata": {},
   "outputs": [
    {
     "data": {
      "image/png": "[encoded data removed]",
      "text/plain": [
       "<Figure size 432x288 with 1 Axes>"
      ]
     },
     "metadata": {
      "needs_background": "light"
     },
     "output_type": "display_data"
    }
   ],
   "source": [
    "plot_prediction(model,X_test,y_test)"
   ]
  },
  {
   "cell_type": "markdown",
   "metadata": {},
   "source": [
    "Nota-se pelo gráfico acima que o modelo não representa o conjunto de dados, havendo underfitting."
   ]
  },
  {
   "cell_type": "markdown",
   "metadata": {},
   "source": [
    "# Adicionando atributos (regressão linear com múltiplas variáveis)\n",
    "\n",
    "Agora, estenderemos o modelo de regressão linear adicionando atributos polinomiais de grau até $d$, isto é, o modelo será dado por $\\hat{y} = w_0 + w_1 x + w_2 x^2 + \\cdots + w_d x^d$. Note que esse modelo possui um hiperparâmetro, $d$, que precisa ser determinado. **A boa prática recomenda nunca utilizar o conjunto de teste até que todos os hiperparâmetros sejam escolhidos**, utilizando, ao invés disso, o conjunto de validação.\n",
    "\n",
    "- Adicione atributos polinomiais ao modelo de regressão linear, escolha algum valor de $d$ e treine o modelo\n",
    "- Calcule o erro quadrático médio (MSE) da predição sobre o conjunto de treinamento e sobre o **conjunto de validação**\n",
    "- Trace o gráfico da predição sobre o conjunto de treinamento\n",
    "- Repita os passos acima experimentando outros valores de $d$. O que você observa?\n",
    "- Especificamente, para o caso $d=12$, você diria que o modelo está sofrendo de underfitting, overfitting ou nenhum dos dois?\n",
    "\n",
    "#### Funções úteis:\n",
    "```python\n",
    "sklearn.preprocessing.PolynomialFeatures()\n",
    "sklearn.pipeline.make_pipeline()\n",
    "```"
   ]
  },
  {
   "cell_type": "markdown",
   "metadata": {},
   "source": [
    "Treinando o modelo para $d = 2$:"
   ]
  },
  {
   "cell_type": "code",
   "execution_count": 7,
   "metadata": {},
   "outputs": [
    {
     "data": {
      "text/plain": [
       "Pipeline(memory=None,\n",
       "         steps=[('polynomial_features',\n",
       "                 PolynomialFeatures(degree=2, include_bias=True,\n",
       "                                    interaction_only=False, order='C')),\n",
       "                ('model',\n",
       "                 LinearRegression(copy_X=True, fit_intercept=True, n_jobs=None,\n",
       "                                  normalize=False))],\n",
       "         verbose=False)"
      ]
     },
     "execution_count": 7,
     "metadata": {},
     "output_type": "execute_result"
    }
   ],
   "source": [
    "from sklearn.preprocessing import PolynomialFeatures\n",
    "from sklearn.pipeline import Pipeline\n",
    "\n",
    "Xa_t = X\n",
    "ya_t = y\n",
    "\n",
    "Xa_val = X_val\n",
    "ya_val = y_val\n",
    "\n",
    "Xa_test = X_test\n",
    "ya_test = y_test\n",
    "\n",
    "polynomial_features = PolynomialFeatures(degree = 2)\n",
    "model = LinearRegression()\n",
    "\n",
    "pipeline = Pipeline([(\"polynomial_features\", polynomial_features), (\"model\", model)])\n",
    "pipeline.fit(Xa_t.reshape(-1,1),ya_t)"
   ]
  },
  {
   "cell_type": "markdown",
   "metadata": {},
   "source": [
    "Calculando o MSE sobre o conjunto de treinamento:"
   ]
  },
  {
   "cell_type": "code",
   "execution_count": 8,
   "metadata": {},
   "outputs": [
    {
     "data": {
      "text/plain": [
       "0.5119957696213475"
      ]
     },
     "execution_count": 8,
     "metadata": {},
     "output_type": "execute_result"
    }
   ],
   "source": [
    "y_pl = pipeline.predict(Xa_t.reshape(-1,1))\n",
    "\n",
    "mean_squared_error(ya_t,y_pl)"
   ]
  },
  {
   "cell_type": "markdown",
   "metadata": {},
   "source": [
    "Calculando o MSE sobre o conjunto de validação:"
   ]
  },
  {
   "cell_type": "code",
   "execution_count": 9,
   "metadata": {},
   "outputs": [
    {
     "data": {
      "text/plain": [
       "0.6118028788933288"
      ]
     },
     "execution_count": 9,
     "metadata": {},
     "output_type": "execute_result"
    }
   ],
   "source": [
    "y_pl = pipeline.predict(Xa_val.reshape(-1,1))\n",
    "\n",
    "mean_squared_error(ya_val,y_pl)"
   ]
  },
  {
   "cell_type": "markdown",
   "metadata": {},
   "source": [
    "Gráfico da predição sobre o conjunto de treinamento:"
   ]
  },
  {
   "cell_type": "code",
   "execution_count": 10,
   "metadata": {},
   "outputs": [
    {
     "data": {
      "image/png": "[encoded data removed]",
      "text/plain": [
       "<Figure size 432x288 with 1 Axes>"
      ]
     },
     "metadata": {
      "needs_background": "light"
     },
     "output_type": "display_data"
    }
   ],
   "source": [
    "plot_prediction(pipeline,X.reshape(-1,1),y)"
   ]
  },
  {
   "cell_type": "markdown",
   "metadata": {},
   "source": [
    "Para valores de $d$ muito baixos, ocorre o underfitting. Para valores de $d$ muito altos, ocorre o overfitting. Realizando os procedimentos para $d = 12$:"
   ]
  },
  {
   "cell_type": "code",
   "execution_count": 11,
   "metadata": {},
   "outputs": [
    {
     "data": {
      "text/plain": [
       "Pipeline(memory=None,\n",
       "         steps=[('polynomial_features',\n",
       "                 PolynomialFeatures(degree=12, include_bias=True,\n",
       "                                    interaction_only=False, order='C')),\n",
       "                ('model',\n",
       "                 LinearRegression(copy_X=True, fit_intercept=True, n_jobs=None,\n",
       "                                  normalize=False))],\n",
       "         verbose=False)"
      ]
     },
     "execution_count": 11,
     "metadata": {},
     "output_type": "execute_result"
    }
   ],
   "source": [
    "polynomial_features = PolynomialFeatures(degree = 12)\n",
    "model = LinearRegression()\n",
    "\n",
    "pipeline = Pipeline([(\"polynomial_features\", polynomial_features), (\"model\", model)])\n",
    "pipeline.fit(Xa_t.reshape(-1,1),ya_t)"
   ]
  },
  {
   "cell_type": "markdown",
   "metadata": {},
   "source": [
    "MSE sobre o conjunto de treinamento:"
   ]
  },
  {
   "cell_type": "code",
   "execution_count": 13,
   "metadata": {},
   "outputs": [
    {
     "data": {
      "text/plain": [
       "0.10896246759918281"
      ]
     },
     "execution_count": 13,
     "metadata": {},
     "output_type": "execute_result"
    }
   ],
   "source": [
    "y_pl = pipeline.predict(Xa_t.reshape(-1,1))\n",
    "\n",
    "mean_squared_error(ya_t,y_pl)"
   ]
  },
  {
   "cell_type": "markdown",
   "metadata": {},
   "source": [
    "MSE sobre o conjunto de validação:"
   ]
  },
  {
   "cell_type": "code",
   "execution_count": 15,
   "metadata": {},
   "outputs": [
    {
     "data": {
      "text/plain": [
       "0.6767746319590603"
      ]
     },
     "execution_count": 15,
     "metadata": {},
     "output_type": "execute_result"
    }
   ],
   "source": [
    "y_pl = pipeline.predict(Xa_val.reshape(-1,1))\n",
    "\n",
    "mean_squared_error(ya_val,y_pl)"
   ]
  },
  {
   "cell_type": "markdown",
   "metadata": {},
   "source": [
    "Gráfico da predição sobre o conjunto de treinamento:"
   ]
  },
  {
   "cell_type": "code",
   "execution_count": 16,
   "metadata": {},
   "outputs": [
    {
     "data": {
      "image/png": "[encoded data removed]",
      "text/plain": [
       "<Figure size 432x288 with 1 Axes>"
      ]
     },
     "metadata": {
      "needs_background": "light"
     },
     "output_type": "display_data"
    }
   ],
   "source": [
    "plot_prediction(pipeline,Xa_t.reshape(-1,1),ya_t)"
   ]
  },
  {
   "cell_type": "markdown",
   "metadata": {},
   "source": [
    "Gráfico da predição sobre o conjunto de validação:"
   ]
  },
  {
   "cell_type": "code",
   "execution_count": 17,
   "metadata": {},
   "outputs": [
    {
     "data": {
      "image/png": "[encoded data removed]",
      "text/plain": [
       "<Figure size 432x288 with 1 Axes>"
      ]
     },
     "metadata": {
      "needs_background": "light"
     },
     "output_type": "display_data"
    }
   ],
   "source": [
    "plot_prediction(pipeline,Xa_val.reshape(-1,1),ya_val)"
   ]
  },
  {
   "cell_type": "markdown",
   "metadata": {},
   "source": [
    "Pode-se observar que o MSE sobre o conjunto de treinamento diminui, porém aumenta quando calculado sobre o conjunto de validação, aumenta. Este é um problema que se enfrenta quando há poucos dados para treinar o modelo. Portanto, para $d = 12$ o modelo sofre de overfitting."
   ]
  },
  {
   "cell_type": "markdown",
   "metadata": {},
   "source": [
    "## Busca de hiperparâmetros\n",
    "\n",
    "- Trace um gráfico do MSE de treinamento e de validação em função do grau $d$. Se necessário, ajuste a escala vertical para melhor visualização.\n",
    "- Comente sobre o que você observa no gráfico. Em particular, explique o comportamento das duas curvas e por que esse comportamento era esperado.\n",
    "- Determine o valor de $d$ que minimiza o erro no conjunto de validação.\n",
    "- Para este valor de $d$, calcule o MSE de treinamento, de validação **e de teste** e trace o gráfico da predição sobre o conjunto de treinamento.\n",
    "- (OPCIONAL) O erro de validação parece representativo do erro de teste? O que você acha que aconteceria se o conjunto de validação fosse significativamente menor (por exemplo, com 30 amostras ao invés de 1000)?\n",
    "\n",
    "#### Funções úteis:\n",
    "```python\n",
    "np.arange()\n",
    "np.zeros() # útil para pré-alocação de vetores\n",
    "for i in range(len(v)): # percorre os elementos de v\n",
    "plt.ylim()\n",
    "np.argmin()\n",
    "```"
   ]
  },
  {
   "cell_type": "markdown",
   "metadata": {},
   "source": [
    "Gráfico MSE vs d para o conjunto de treinamento e validação:"
   ]
  },
  {
   "cell_type": "code",
   "execution_count": 24,
   "metadata": {
    "scrolled": true
   },
   "outputs": [
    {
     "data": {
      "image/png": "[encoded data removed]",
      "text/plain": [
       "<Figure size 432x288 with 1 Axes>"
      ]
     },
     "metadata": {
      "needs_background": "light"
     },
     "output_type": "display_data"
    }
   ],
   "source": [
    "n = 13\n",
    "degrees = [1,2,3,4,5,6,7,8,9,10,11,12,13]\n",
    "mse_trein = np.zeros(n)\n",
    "mse_val = np.zeros(n)\n",
    "\n",
    "for i in range(len(degrees)):\n",
    "\n",
    "    poly = PolynomialFeatures(degree=degrees[i])\n",
    "    model = LinearRegression()\n",
    "    pipeline = Pipeline([(\"poly\", poly), (\"model\", model)])\n",
    "    pipeline.fit(Xa_t.reshape(-1,1), ya_t)\n",
    "\n",
    "    y_pltrein = pipeline.predict(Xa_t.reshape(-1,1))\n",
    "    y_plval = pipeline.predict(Xa_val.reshape(-1,1))\n",
    "    \n",
    "    mse_val[i] = mean_squared_error(ya_val,y_plval)\n",
    "    mse_trein[i] = mean_squared_error(ya_t,y_pltrein)\n",
    "\n",
    "plt.title(\"Valores de MSE para diferentes valores de d\")\n",
    "plt.plot(degrees, mse_trein, '.-b', color = 'red', label=\"Treinamento\")\n",
    "plt.plot(degrees, mse_val, '.-b', color = 'blue', label=\"Validacao\")\n",
    "plt.xlabel(\"d\")\n",
    "plt.ylabel(\"MSE\")\n",
    "plt.legend(loc=\"best\")\n",
    "plt.show()"
   ]
  },
  {
   "cell_type": "markdown",
   "metadata": {},
   "source": [
    "Nota-se que quanto maior o valor de $d$, menor será o MSE para o conjunto de treinamento e maior será o MSE para o conjunto de validação. Isso acontece porque existem poucos dados no conjunto de treinamento, causando overfitting a medida que $d$ aumenta.\n",
    "\n",
    "O que se pode ver é que para $d = 7$ o MSE é mínimo para o conjunto de validação."
   ]
  },
  {
   "cell_type": "code",
   "execution_count": 29,
   "metadata": {},
   "outputs": [
    {
     "data": {
      "text/plain": [
       "6"
      ]
     },
     "execution_count": 29,
     "metadata": {},
     "output_type": "execute_result"
    }
   ],
   "source": [
    "np.argmin(mse_val)"
   ]
  },
  {
   "cell_type": "markdown",
   "metadata": {},
   "source": [
    "O índice retornado pela linha acima é 6 pelo fato de que o gráfico é plotado de 1 a 13, mas o index do vetor mse_val (que equivale a $d$) vai de 0 a 12."
   ]
  },
  {
   "cell_type": "code",
   "execution_count": 30,
   "metadata": {},
   "outputs": [
    {
     "data": {
      "text/plain": [
       "0.30634855220143453"
      ]
     },
     "execution_count": 30,
     "metadata": {},
     "output_type": "execute_result"
    }
   ],
   "source": [
    "mse_val[6]"
   ]
  },
  {
   "cell_type": "markdown",
   "metadata": {},
   "source": [
    "MSE para o conjunto de treinamento com $d = 7$:"
   ]
  },
  {
   "cell_type": "code",
   "execution_count": 31,
   "metadata": {},
   "outputs": [
    {
     "data": {
      "text/plain": [
       "0.1646888948147033"
      ]
     },
     "execution_count": 31,
     "metadata": {},
     "output_type": "execute_result"
    }
   ],
   "source": [
    "poly = PolynomialFeatures(degree = 7) \n",
    "model = LinearRegression()\n",
    "pipeline = Pipeline([(\"poly\", poly), (\"model\", model)])\n",
    "pipeline.fit(Xa_t.reshape(-1,1), ya_t)\n",
    "\n",
    "y_pred = pipeline.predict(Xa_t)\n",
    "mean_squared_error(ya_t,y_pred)"
   ]
  },
  {
   "cell_type": "markdown",
   "metadata": {},
   "source": [
    "MSE para o conjunto de validação com $d = 7$:"
   ]
  },
  {
   "cell_type": "code",
   "execution_count": 32,
   "metadata": {},
   "outputs": [
    {
     "data": {
      "text/plain": [
       "0.30634855220143453"
      ]
     },
     "execution_count": 32,
     "metadata": {},
     "output_type": "execute_result"
    }
   ],
   "source": [
    "y_pred = pipeline.predict(Xa_val)\n",
    "mean_squared_error(ya_val,y_pred)"
   ]
  },
  {
   "cell_type": "markdown",
   "metadata": {},
   "source": [
    "MSE para o conjunto de teste com $d = 7$:"
   ]
  },
  {
   "cell_type": "code",
   "execution_count": 33,
   "metadata": {},
   "outputs": [
    {
     "data": {
      "text/plain": [
       "0.29857411707736603"
      ]
     },
     "execution_count": 33,
     "metadata": {},
     "output_type": "execute_result"
    }
   ],
   "source": [
    "y_pred = pipeline.predict(Xa_test)\n",
    "mean_squared_error(ya_test,y_pred)"
   ]
  },
  {
   "cell_type": "markdown",
   "metadata": {},
   "source": [
    "Gráfico da predição sobre o conjunto de treinamento:"
   ]
  },
  {
   "cell_type": "code",
   "execution_count": 35,
   "metadata": {},
   "outputs": [
    {
     "data": {
      "image/png": "[encoded data removed]",
      "text/plain": [
       "<Figure size 432x288 with 1 Axes>"
      ]
     },
     "metadata": {
      "needs_background": "light"
     },
     "output_type": "display_data"
    }
   ],
   "source": [
    "plot_prediction(pipeline,Xa_t,ya_t)"
   ]
  },
  {
   "cell_type": "markdown",
   "metadata": {},
   "source": [
    "# Regularização\n",
    "\n",
    "Agora, adicionaremos regularização $\\ell_2$ ao modelo, o que introduz mais um hiperparâmetro, o parâmetro de regularização $\\lambda$.\n",
    "\n",
    "- Retornando ao modelo com $d=12$, agora com regularização $\\ell_2$ (_ridge regression_), experimente alguns valores de $\\lambda$ e observe os resultados no gráfico da predição sobre o conjunto de treinamento. (Você logo perceberá a necessidade de usar $\\lambda \\ll 1$.) Em particular, o que acontece quando $\\lambda$ é comparativamente grande?\n",
    "- Trace um gráfico do MSE de treinamento e de validação em função de $\\log \\lambda$.\n",
    "- Comente sobre o que você observa no gráfico. Em particular, explique o comportamento das duas curvas e por que esse comportamento era esperado.\n",
    "- Determine o valor de $\\lambda$ que minimiza o erro no conjunto de validação.\n",
    "- Para este valor de $\\lambda$, calcule o MSE de treinamento, de validação e de teste e trace o gráfico da predição sobre o conjunto de treinamento.\n",
    "- A partir destes resultados, comente sobre o efeito da regularização em um modelo com capacidade elevada comparativamente ao tamanho do conjunto de treinamento.\n",
    "- (OPCIONAL) O que você acha que ocorreria se o conjunto de treinamento fosse relativamente grande (por exemplo, com 1000 amostras ao invés de 30)? Ainda seria importante regularizar?\n",
    "\n",
    "#### Dicas\n",
    "\n",
    "- Não utilize `lambda` como nome de variável, pois no Python `lambda` é uma palavra reservada (operador para criar funções anônimas). Uma sugestão é abreviar para `lamb`.\n",
    "\n",
    "#### Funções úteis:\n",
    "```python\n",
    "sklearn.linear_model.Ridge()\n",
    "np.linspace()\n",
    "np.exp()\n",
    "np.log()\n",
    "```\n",
    "Note que a função `Ridge()` utiliza `alpha` (ao invés de $\\lambda$) como parâmetro de regularização."
   ]
  },
  {
   "cell_type": "markdown",
   "metadata": {},
   "source": [
    "Treinando um modelo com $d = 12$ e aplicando regularização Ridge com $\\lambda = 1\\times10^{-6}$:"
   ]
  },
  {
   "cell_type": "code",
   "execution_count": 83,
   "metadata": {},
   "outputs": [
    {
     "data": {
      "image/png": "[encoded data removed]",
      "text/plain": [
       "<Figure size 432x288 with 1 Axes>"
      ]
     },
     "metadata": {
      "needs_background": "light"
     },
     "output_type": "display_data"
    }
   ],
   "source": [
    "from sklearn.linear_model import Ridge\n",
    "\n",
    "poly = PolynomialFeatures(degree = 12)\n",
    "\n",
    "ridge = Pipeline([(\"poly\", poly), (\"Ridge\", Ridge(alpha = 0.000001))])\n",
    "\n",
    "ridge.fit(Xa_t,ya_t)\n",
    "\n",
    "plot_prediction(ridge,Xa_t,ya_t)\n",
    "plt.title('Regularização com d = 12 e $\\lambda$ = 1e-6')\n",
    "plt.show()"
   ]
  },
  {
   "cell_type": "markdown",
   "metadata": {},
   "source": [
    "Matematicamente, a regularização é uma forma de penalizar os parâmetros que atingirem valores muito altos. A função custo $J(\\mathbf{w})$ com regularização Ridge, diferentemente da regressão sem regularização, possui uma função $\\Omega (\\mathbf{w})$ que penaliza os parâmetros $\\mathbf{w}$ com um parâmetro $\\lambda$. Se $\\lambda = 0$, temos uma regressão sem regularização; se $\\lambda > 1$ ocorre underfitting, pois os parâmetros continuarão grandes; se $\\lambda << 1$ os parâmetros são normalizados e o modelo melhora seu desempenho.\n",
    "\n"
   ]
  },
  {
   "cell_type": "markdown",
   "metadata": {},
   "source": [
    "Gráfico da MSE em função de $\\lambda$, para $d = 12$:"
   ]
  },
  {
   "cell_type": "code",
   "execution_count": 122,
   "metadata": {},
   "outputs": [
    {
     "data": {
      "image/png": "[encoded data removed]",
      "text/plain": [
       "<Figure size 432x288 with 1 Axes>"
      ]
     },
     "metadata": {
      "needs_background": "light"
     },
     "output_type": "display_data"
    }
   ],
   "source": [
    "alphas = np.logspace(-6, 0, num = 100)\n",
    "mse_trein = np.zeros(len(alphas))\n",
    "mse_val = np.zeros(len(alphas))\n",
    "\n",
    "for i in range(len(alphas)):\n",
    "    \n",
    "    ridge = Pipeline([(\"poly\", poly), (\"Ridge\", Ridge(alpha = alphas[i]))])\n",
    "    \n",
    "    ridge.fit(Xa_t,ya_t)\n",
    "    ridge.fit(Xa_val,ya_val)\n",
    "    \n",
    "    y_rtrein = ridge.predict(Xa_t.reshape(-1,1))\n",
    "    y_rval = ridge.predict(Xa_val.reshape(-1,1))\n",
    "    \n",
    "    mse_val[i] = mean_squared_error(ya_val,y_rval)\n",
    "    mse_trein[i] = mean_squared_error(ya_t,y_rtrein)\n",
    "\n",
    "plt.title('MSE para regularização com d = 12 em função de $\\lambda$')\n",
    "plt.semilogx(alphas, mse_val, 'r', label='Validação')\n",
    "plt.semilogx(alphas, mse_trein, 'b', label='Treinamento')\n",
    "plt.legend(loc = \"best\")\n",
    "plt.xlabel('$\\lambda$')\n",
    "plt.ylabel('MSE')\n",
    "plt.grid()\n",
    "plt.show()"
   ]
  },
  {
   "cell_type": "markdown",
   "metadata": {},
   "source": [
    "Pelo gráfico acima é possível perceber que o MSE de ambos os conjuntos crescem conforme aumenta-se o valor de $\\lambda$. "
   ]
  },
  {
   "cell_type": "markdown",
   "metadata": {
    "scrolled": false
   },
   "source": [
    "O valor mínimo de $\\lambda$ que minimiza o MSE no conjunto de validação é:"
   ]
  },
  {
   "cell_type": "markdown",
   "metadata": {},
   "source": []
  },
  {
   "cell_type": "markdown",
   "metadata": {},
   "source": [
    "# Implementação em Python\n",
    "\n",
    "Finalmente, você irá escrever sua própria implementação dos modelos acima, usando uma interface parcialmente compatível com a biblioteca `sklearn`. Além das funções `fit()` e `predict()`, a classe do modelo deverá conter uma função `mse()` para cálculo do MSE (ao invés da função `score()` do `sklearn`).\n",
    "\n",
    "É suficiente implementar um modelo de regressão linear com atributos polinomiais de grau $d$ e regularização $\\ell_2$ com parâmetro $\\lambda$; caso se deseje um modelo sem atributos polinomiais (linear na variável de entrada) ou sem regularização, é suficiente fazer $d=1$ ou $\\lambda=0$, respectivamente.\n",
    "\n",
    "- Complete a classe abaixo, preenchendo as linhas indicadas (ou fique à vontade para reimplementar da forma que desejar).\n",
    "- Teste-a com os comandos da célula seguinte, para garantir que sua implementação está correta.\n",
    "- (OPCIONAL) Para este conjunto de dados, o que ocorre quando usamos $d \\geq 10$ e $\\lambda=0$? Por que isso ocorre? Isto deixa de ocorrer se usarmos $\\lambda=10^{-12}$? Por quê?\n",
    "\n",
    "#### Funções úteis:\n",
    "```python\n",
    "np.ones()\n",
    "np.c_[]\n",
    "np.diag()\n",
    "np.r_[]\n",
    "np.linalg.inv()\n",
    "np.linalg.solve()\n",
    "np.mean()\n",
    "```"
   ]
  },
  {
   "cell_type": "code",
   "execution_count": null,
   "metadata": {},
   "outputs": [],
   "source": [
    "class Model():\n",
    "    # Univariate linear regression with polinomial features and L2 regularization\n",
    "    def __init__(self, d=1, lamb=0):\n",
    "        # Initialization\n",
    "        self.d = d\n",
    "        self.lamb = lamb\n",
    "        return\n",
    "    \n",
    "    def add_powers(self, X):\n",
    "        # Add powers of X (including a column of ones)\n",
    "        X_new = ???\n",
    "        for i in range(1,self.d+1):\n",
    "            X_new = ???\n",
    "        return X_new\n",
    "    \n",
    "    def fit(self, X, y):\n",
    "        X = self.add_powers(X)\n",
    "        L = ???\n",
    "        assert np.linalg.matrix_rank(X.T @ X + self.lamb*L) == X.shape[1], 'Singular matrix'\n",
    "        self.w = ???\n",
    "        return\n",
    "\n",
    "    def predict(self, X):\n",
    "        X = self.add_powers(X)\n",
    "        y_pred = ???\n",
    "        return y_pred\n",
    "    \n",
    "    def mse(self, X, y):\n",
    "        J = ???\n",
    "        return J"
   ]
  }
 ],
 "metadata": {
  "kernelspec": {
   "display_name": "Python 3",
   "language": "python",
   "name": "python3"
  },
  "language_info": {
   "codemirror_mode": {
    "name": "ipython",
    "version": 3
   },
   "file_extension": ".py",
   "mimetype": "text/x-python",
   "name": "python",
   "nbconvert_exporter": "python",
   "pygments_lexer": "ipython3",
   "version": "3.7.3"
  }
 },
 "nbformat": 4,
 "nbformat_minor": 2
}
