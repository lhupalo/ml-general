{
 "cells": [
  {
   "cell_type": "markdown",
   "metadata": {},
   "source": [
    "Universidade Federal de Santa Catarina<br>\n",
    "Departamento de Engenharia Elétrica e Eletrônica<br>\n",
    "EEL7514/EEL7513 - Introdução ao Aprendizado de Máquina\n",
    "$\\newcommand{\\bX}{\\mathbf{X}}$\n",
    "$\\newcommand{\\bw}{\\mathbf{w}}$\n",
    "$\\newcommand{\\by}{\\mathbf{y}}$\n",
    "$\\newcommand{\\bx}{\\mathbf{x}}$\n",
    "$\\newcommand{\\bU}{\\mathbf{U}}$\n",
    "$\\newcommand{\\bu}{\\mathbf{u}}$\n",
    "$\\newcommand{\\bT}{\\mathbf{T}}$\n",
    "$\\newcommand{\\RR}{\\mathbb{R}}$\n",
    "$\\newcommand{\\calS}{\\mathcal{S}}$\n",
    "\n",
    "\n",
    "# Exercício 9: Detecção de Anomalias e Sistemas de Recomendação\n",
    "\n",
    "Neste exercício, você irá explorar duas aplicações de técnicas de aprendizado de máquina: estimação de densidade para detecção de anomalias, um problema de aprendizado não supervisionado; e um algoritmo de fatoração matricial para filtragem colaborativa em um sistema de recomendação."
   ]
  },
  {
   "cell_type": "code",
   "execution_count": 1,
   "metadata": {},
   "outputs": [],
   "source": [
    "from scipy.io import loadmat\n",
    "import numpy as np\n",
    "import matplotlib.pyplot as plt\n",
    "%matplotlib inline\n",
    "from scipy.stats import multivariate_normal\n",
    "\n",
    "def plot_data(X, outliers=None, mean=None, cov=None):\n",
    "    plt.scatter(X[:,0], X[:,1], marker='x')\n",
    "    plt.axis('square')\n",
    "    plt.axis([0, 30, 0, 30])\n",
    "    plt.gcf().set_size_inches(5, 5)\n",
    "    plt.xlabel('Latency (ms)')\n",
    "    plt.ylabel('Throughput (Mbit/s)');\n",
    "    # circle outliers\n",
    "    if outliers is not None:\n",
    "        outliers = outliers > 0\n",
    "        plt.scatter(X[outliers,0], X[outliers,1], c='none', marker='o', \n",
    "                    edgecolors='red', linewidths=2, s=100)\n",
    "    # plot level curves corresponding to p = 10^-3, 10^-6, 10^-9, ...\n",
    "    if mean is not None and cov is not None:\n",
    "        X1, X2 = np.meshgrid(np.arange(0, 35.5, 0.5), np.arange(0, 35.5, 0.5))\n",
    "        XX = np.c_[X1.reshape(-1), X2.reshape(-1)]\n",
    "        p = multivariate_normal(mean=mean, cov=cov).pdf(XX)\n",
    "        p = p.reshape(X1.shape)\n",
    "        plt.contour(X1, X2, -np.log10(p + np.finfo(np.float64).tiny), \n",
    "                    levels=3*np.arange(1, 11), cmap=plt.cm.Greens_r, zorder=-1)\n",
    "    plt.show()"
   ]
  },
  {
   "cell_type": "markdown",
   "metadata": {},
   "source": [
    "# Detecção de anomalias\n",
    "\n",
    "## Conjunto de dados #1\n",
    "\n",
    "O primeiro conjunto de dados possui como atributos o _throughput_ (Mbit/s) e a latência (ms) da resposta de cada servidor de uma rede, medidos em vários momentos durante seu funcionamento. O objetivo é detectar um comportamento anômalo. Você dispõe de um conjunto de treinamento não-rotulado $\\bX$ e um conjunto de validação rotulado $(\\bX_{val}, \\by_{val})$. Note que o conjunto de treinamento não é garantidamente livre de amostras anômalas, i.e., provavelmente é um conjunto \"contaminado\"."
   ]
  },
  {
   "cell_type": "code",
   "execution_count": 2,
   "metadata": {},
   "outputs": [
    {
     "data": {
      "image/png": "[encoded data removed]",
      "text/plain": [
       "<Figure size 360x360 with 1 Axes>"
      ]
     },
     "metadata": {
      "needs_background": "light"
     },
     "output_type": "display_data"
    },
    {
     "data": {
      "image/png": "[encoded data removed]",
      "text/plain": [
       "<Figure size 360x360 with 1 Axes>"
      ]
     },
     "metadata": {
      "needs_background": "light"
     },
     "output_type": "display_data"
    }
   ],
   "source": [
    "data = loadmat('data/anomaly1.mat')\n",
    "X = data['X']\n",
    "X_val, y_val = data['Xval'], data['yval'][:, 0]\n",
    "plt.title('Train data')\n",
    "plot_data(X)\n",
    "plt.title('Validation data')\n",
    "plot_data(X_val, y_val)"
   ]
  },
  {
   "cell_type": "markdown",
   "metadata": {},
   "source": [
    "Utilize um modelo gaussiano multivariável para ajustar o conjunto de treinamento, i.e., estime a média e a matriz de covariância dos dados. Trace curvas de nível da densidade de probabilidade usando a função `plot_data(X, None, mean, cov)`. Para estimar a média e covariância, utilize as funções `np.mean()` e `np.cov()` (configure corretamente a orientação dos eixos).\n",
    "\n",
    "Para fins de comparação, realize também uma estimação da matriz de covariância sob a hipótese de independência, i.e., estime a variância de cada dimensão independentemente e utilize esses valores para produzir uma matriz de covariância diagonal. Para isso, utilize a função `np.var()`. Qual estimação parece mais adequada? Por quê?"
   ]
  },
  {
   "cell_type": "code",
   "execution_count": 4,
   "metadata": {},
   "outputs": [
    {
     "ename": "NameError",
     "evalue": "name 'sklearn' is not defined",
     "output_type": "error",
     "traceback": [
      "\u001b[1;31m---------------------------------------------------------------------------\u001b[0m",
      "\u001b[1;31mNameError\u001b[0m                                 Traceback (most recent call last)",
      "\u001b[1;32m<ipython-input-4-7dac19fffa32>\u001b[0m in \u001b[0;36m<module>\u001b[1;34m\u001b[0m\n\u001b[0;32m      1\u001b[0m \u001b[1;32mfrom\u001b[0m \u001b[0msklearn\u001b[0m \u001b[1;32mimport\u001b[0m \u001b[0mpreprocessing\u001b[0m\u001b[1;33m\u001b[0m\u001b[1;33m\u001b[0m\u001b[0m\n\u001b[0;32m      2\u001b[0m \u001b[1;33m\u001b[0m\u001b[0m\n\u001b[1;32m----> 3\u001b[1;33m \u001b[0mX_norm\u001b[0m \u001b[1;33m=\u001b[0m \u001b[0msklearn\u001b[0m\u001b[1;33m.\u001b[0m\u001b[0mpreprocessing\u001b[0m\u001b[1;33m.\u001b[0m\u001b[0mStandardScaler\u001b[0m\u001b[1;33m(\u001b[0m\u001b[1;33m)\u001b[0m\u001b[1;33m.\u001b[0m\u001b[0mfit_transform\u001b[0m\u001b[1;33m(\u001b[0m\u001b[0mX\u001b[0m\u001b[1;33m)\u001b[0m\u001b[1;33m\u001b[0m\u001b[1;33m\u001b[0m\u001b[0m\n\u001b[0m\u001b[0;32m      4\u001b[0m \u001b[0mmean\u001b[0m \u001b[1;33m=\u001b[0m \u001b[0mnp\u001b[0m\u001b[1;33m.\u001b[0m\u001b[0mmean\u001b[0m\u001b[1;33m(\u001b[0m\u001b[0mX_norm\u001b[0m\u001b[1;33m,\u001b[0m \u001b[0maxis\u001b[0m \u001b[1;33m=\u001b[0m \u001b[1;36m0\u001b[0m\u001b[1;33m)\u001b[0m\u001b[1;33m\u001b[0m\u001b[1;33m\u001b[0m\u001b[0m\n\u001b[0;32m      5\u001b[0m \u001b[0mcov\u001b[0m \u001b[1;33m=\u001b[0m \u001b[0mnp\u001b[0m\u001b[1;33m.\u001b[0m\u001b[0mcov\u001b[0m\u001b[1;33m(\u001b[0m\u001b[0mX_norm\u001b[0m\u001b[1;33m,\u001b[0m \u001b[0mrowvar\u001b[0m \u001b[1;33m=\u001b[0m \u001b[1;32mFalse\u001b[0m\u001b[1;33m)\u001b[0m\u001b[1;33m\u001b[0m\u001b[1;33m\u001b[0m\u001b[0m\n",
      "\u001b[1;31mNameError\u001b[0m: name 'sklearn' is not defined"
     ]
    }
   ],
   "source": [
    "from sklearn import preprocessing\n",
    "\n",
    "X_norm = sklearn.preprocessing.StandardScaler().fit_transform(X)\n",
    "mean = np.mean(X_norm, axis = 0)\n",
    "cov = np.cov(X_norm, rowvar = False)\n",
    "model_gauss = multivariate_normal(mean,cov)"
   ]
  },
  {
   "cell_type": "markdown",
   "metadata": {},
   "source": [
    "Para realizar a detecção de anomalias, é necessário definir um limiar $\\epsilon$ de tal forma que uma amostra $\\bx$ é classificada como anômala quando $p(\\bx) < \\epsilon$. Não há um valor correto ou uma forma única de escolher este limiar; em última análise, trata-se de uma escolha arbitrária e que depende do modelo. Caso esteja disponível um conjunto de validação, uma forma objetiva de escolher o limiar é escolher aquele que maximiza uma métrica de classificação sobre o conjunto de validação. Naturalmente, a métrica deve ser robusta ao desbalanceamento do conjunto.\n",
    "\n",
    "Inicialmente, escolha alguns valores de $\\epsilon$, realize a predição no conjunto de **treinamento** e marque as anomalias no gráfico usando a função `plot_data(X, y_pred, mean, cov)`.\n",
    "\n",
    "Em seguida, implemente uma função `select_threshold(p, y)` que tem como entrada um vetor `p` de probabilidades das amostras (estimadas segundo o modelo ajustado) e um vetor `y` com seus respectivos rótulos, e que retorna o valor de $\\epsilon$ que maximiza o score F1 no conjunto fornecido, bem como o valor de F1 obtido. Utilize essa função no conjunto de **validação** para determinar $\\epsilon$ e F1. Com este valor de limiar, realize a predição no conjunto de **treinamento** e novamente marque as anomalias no gráfico.\n",
    "\n",
    "### Dicas de implementação\n",
    "\n",
    "- Utilize a função `scipy.stats.multivariate_normal(mean, cov)` para definir o modelo e o respectivo método `.pdf()` para calcular a densidade de probabilidade.\n",
    "- Utilize a função `sklearn.metrics.f1_score` para calcular o score F1.\n",
    "\n"
   ]
  },
  {
   "cell_type": "code",
   "execution_count": 3,
   "metadata": {},
   "outputs": [
    {
     "ename": "NameError",
     "evalue": "name 'epsilon' is not defined",
     "output_type": "error",
     "traceback": [
      "\u001b[1;31m---------------------------------------------------------------------------\u001b[0m",
      "\u001b[1;31mNameError\u001b[0m                                 Traceback (most recent call last)",
      "\u001b[1;32m<ipython-input-3-99475824ca61>\u001b[0m in \u001b[0;36m<module>\u001b[1;34m\u001b[0m\n\u001b[1;32m----> 1\u001b[1;33m \u001b[0mprint\u001b[0m\u001b[1;33m(\u001b[0m\u001b[1;34m'epsilon ='\u001b[0m\u001b[1;33m,\u001b[0m \u001b[0mepsilon\u001b[0m\u001b[1;33m)\u001b[0m\u001b[1;33m\u001b[0m\u001b[1;33m\u001b[0m\u001b[0m\n\u001b[0m\u001b[0;32m      2\u001b[0m \u001b[0mprint\u001b[0m\u001b[1;33m(\u001b[0m\u001b[1;34m'F1 ='\u001b[0m\u001b[1;33m,\u001b[0m \u001b[0mF1\u001b[0m\u001b[1;33m)\u001b[0m\u001b[1;33m\u001b[0m\u001b[1;33m\u001b[0m\u001b[0m\n",
      "\u001b[1;31mNameError\u001b[0m: name 'epsilon' is not defined"
     ]
    }
   ],
   "source": [
    "print('epsilon =', epsilon)\n",
    "print('F1 =', F1)"
   ]
  },
  {
   "cell_type": "markdown",
   "metadata": {},
   "source": [
    "Agora, realize a detecção de anomalias utilizando a função `sklearn.covariance.EllipticEnvelope` e compare os resultados obtidos. Esta função assume o mesmo modelo probabilístico, porém com duas diferenças:\n",
    "- A estimação de variância é robusta a outliers;\n",
    "- A predição é feita usando um valor de $\\epsilon$ calculado automaticamente de tal forma a obter uma determinada fração de outliers, dada pelo parâmetro `contamination`.\n",
    "\n",
    "Além disso, a predição considera a codificação -1 para representar uma amostra anômala e 1 para uma amostra normal.\n",
    "Os parâmetros estimados pelo modelo (para uso pela função `plot_data`) ficam armazenados em `.location_` e `.covariance_`."
   ]
  },
  {
   "cell_type": "markdown",
   "metadata": {},
   "source": [
    "## Conjunto de dados #2\n",
    "\n",
    "O próximo conjunto de dados possui $n=11$ atributos e um maior número de amostras de treinamento. Para uma maior variabilidade, também é feita uma transformação linear aleatória do espaço (correspondendo a rotações, reflexões e escalonamentos) através de uma matriz $\\bT$.\n",
    "\n",
    "Repita os itens anteriores comparando os 3 tipos de modelo gaussiano:\n",
    "- Estimação de covariância completa;\n",
    "- Estimação de covariância diagonal;\n",
    "- Modelo EllipticEnvelope() do sklearn.\n",
    "\n",
    "Desta vez não será possível visualizar a densidade de probabilidade em um espaço 11-dimensional, mas o score F1 no conjunto de validação pode ser calculado. Determine também o número de anomalias encontradas (no conjunto de treinamento) em cada modelo.\n",
    "\n",
    "Em particular, na comparação com o método de estimação da covariância diagonal, experimente utilizar vários estados diferentes do gerador de números aleatórios. O que você observa? Explique."
   ]
  },
  {
   "cell_type": "code",
   "execution_count": 9,
   "metadata": {},
   "outputs": [
    {
     "name": "stdout",
     "output_type": "stream",
     "text": [
      "(1000, 11) (100, 11)\n"
     ]
    }
   ],
   "source": [
    "data = loadmat('data/anomaly2.mat')\n",
    "X = data['X']\n",
    "X_val, y_val = data['Xval'], data['yval'][:, 0]\n",
    "n = X.shape[1]\n",
    "T = np.random.RandomState(0).randn(n,n)\n",
    "X = X @ T\n",
    "X_val = X_val @ T\n",
    "print(X.shape, X_val.shape)"
   ]
  },
  {
   "cell_type": "code",
   "execution_count": 10,
   "metadata": {},
   "outputs": [],
   "source": [
    "X_norm = sklearn.preprocessing.StandardScaler().fit_transform(X)\n",
    "mean = np.mean(X_norm, axis = 0)\n",
    "cov = np.cov(X_norm, rowvar = False)\n",
    "model_gauss = multivariate_normal(mean,cov)"
   ]
  },
  {
   "cell_type": "markdown",
   "metadata": {},
   "source": [
    "## Conjunto de dados #3\n",
    "\n",
    "O próximo conjunto consiste de dados de transações de cartão de crédito, disponível em:\n",
    "\n",
    "https://www.kaggle.com/mlg-ulb/creditcardfraud\n",
    "\n",
    "O objetivo é identificar transações fradulentas. Os atributos consistem do rótulo da transação ($y=1$ corresponde a uma transação fradulenta) e 30 atributos de entrada, sendo que destes 28 correspondem às componentes principais dos atributos originais, os quais não são fornecidos por uma questão de confidencialidade. (Incidentalmente, este conjunto ilustra mais uma aplicação de PCA: anonimização.)\n",
    "\n",
    "O conjunto é formado por 284807 amostras, sendo destas 492 fradulentas (anômalas). Separe 2/3 das amostras normais como conjunto de treinamento, e como conjunto de validação utilize todas as amostras anômalas e as restantes 1/3 de amostras normais, conforme proposto em:\n",
    "\n",
    "https://www.dataversity.net/fraud-detection-using-a-neural-autoencoder/\n",
    "\n",
    "O treinamento deve ser feito usando exclusivamente o conjunto de treinamento, enquanto o conjunto de validação deve ser usado para selecionar o limiar de classificação que maximiza o score F1.\n",
    "\n",
    "Primeiramente, treine um modelo gaussiano, que servirá como baseline de comparação.\n",
    "\n",
    "Em seguida, desenvolva um modelo usando uma rede autoencoder (utilizando Keras), com desempenho superior ao modelo gaussiano. Fique à vontade para utilizar múltiplas camadas e funções de ativação.\n",
    "\n",
    "Para desenvolver e testar a rede autoencoder, separe como conjunto de teste (ou, mais precisamente, validação dessa etapa) uma fração de 10% do conjunto de treinamento, conforme proposto no link acima.\n",
    "\n",
    "Reporte os resultados obtidos. Comente.\n",
    "\n",
    "### Dicas\n",
    "- Pode ser útil normalizar os dados.\n",
    "- Experimente também excluir atributos."
   ]
  },
  {
   "cell_type": "code",
   "execution_count": 13,
   "metadata": {},
   "outputs": [
    {
     "data": {
      "text/html": [
       "<div>\n",
       "<style scoped>\n",
       "    .dataframe tbody tr th:only-of-type {\n",
       "        vertical-align: middle;\n",
       "    }\n",
       "\n",
       "    .dataframe tbody tr th {\n",
       "        vertical-align: top;\n",
       "    }\n",
       "\n",
       "    .dataframe thead th {\n",
       "        text-align: right;\n",
       "    }\n",
       "</style>\n",
       "<table border=\"1\" class=\"dataframe\">\n",
       "  <thead>\n",
       "    <tr style=\"text-align: right;\">\n",
       "      <th></th>\n",
       "      <th>Time</th>\n",
       "      <th>V1</th>\n",
       "      <th>V2</th>\n",
       "      <th>V3</th>\n",
       "      <th>V4</th>\n",
       "      <th>V5</th>\n",
       "      <th>V6</th>\n",
       "      <th>V7</th>\n",
       "      <th>V8</th>\n",
       "      <th>V9</th>\n",
       "      <th>...</th>\n",
       "      <th>V21</th>\n",
       "      <th>V22</th>\n",
       "      <th>V23</th>\n",
       "      <th>V24</th>\n",
       "      <th>V25</th>\n",
       "      <th>V26</th>\n",
       "      <th>V27</th>\n",
       "      <th>V28</th>\n",
       "      <th>Amount</th>\n",
       "      <th>Class</th>\n",
       "    </tr>\n",
       "  </thead>\n",
       "  <tbody>\n",
       "    <tr>\n",
       "      <th>0</th>\n",
       "      <td>0.0</td>\n",
       "      <td>-1.359807</td>\n",
       "      <td>-0.072781</td>\n",
       "      <td>2.536347</td>\n",
       "      <td>1.378155</td>\n",
       "      <td>-0.338321</td>\n",
       "      <td>0.462388</td>\n",
       "      <td>0.239599</td>\n",
       "      <td>0.098698</td>\n",
       "      <td>0.363787</td>\n",
       "      <td>...</td>\n",
       "      <td>-0.018307</td>\n",
       "      <td>0.277838</td>\n",
       "      <td>-0.110474</td>\n",
       "      <td>0.066928</td>\n",
       "      <td>0.128539</td>\n",
       "      <td>-0.189115</td>\n",
       "      <td>0.133558</td>\n",
       "      <td>-0.021053</td>\n",
       "      <td>149.62</td>\n",
       "      <td>0</td>\n",
       "    </tr>\n",
       "    <tr>\n",
       "      <th>1</th>\n",
       "      <td>0.0</td>\n",
       "      <td>1.191857</td>\n",
       "      <td>0.266151</td>\n",
       "      <td>0.166480</td>\n",
       "      <td>0.448154</td>\n",
       "      <td>0.060018</td>\n",
       "      <td>-0.082361</td>\n",
       "      <td>-0.078803</td>\n",
       "      <td>0.085102</td>\n",
       "      <td>-0.255425</td>\n",
       "      <td>...</td>\n",
       "      <td>-0.225775</td>\n",
       "      <td>-0.638672</td>\n",
       "      <td>0.101288</td>\n",
       "      <td>-0.339846</td>\n",
       "      <td>0.167170</td>\n",
       "      <td>0.125895</td>\n",
       "      <td>-0.008983</td>\n",
       "      <td>0.014724</td>\n",
       "      <td>2.69</td>\n",
       "      <td>0</td>\n",
       "    </tr>\n",
       "    <tr>\n",
       "      <th>2</th>\n",
       "      <td>1.0</td>\n",
       "      <td>-1.358354</td>\n",
       "      <td>-1.340163</td>\n",
       "      <td>1.773209</td>\n",
       "      <td>0.379780</td>\n",
       "      <td>-0.503198</td>\n",
       "      <td>1.800499</td>\n",
       "      <td>0.791461</td>\n",
       "      <td>0.247676</td>\n",
       "      <td>-1.514654</td>\n",
       "      <td>...</td>\n",
       "      <td>0.247998</td>\n",
       "      <td>0.771679</td>\n",
       "      <td>0.909412</td>\n",
       "      <td>-0.689281</td>\n",
       "      <td>-0.327642</td>\n",
       "      <td>-0.139097</td>\n",
       "      <td>-0.055353</td>\n",
       "      <td>-0.059752</td>\n",
       "      <td>378.66</td>\n",
       "      <td>0</td>\n",
       "    </tr>\n",
       "    <tr>\n",
       "      <th>3</th>\n",
       "      <td>1.0</td>\n",
       "      <td>-0.966272</td>\n",
       "      <td>-0.185226</td>\n",
       "      <td>1.792993</td>\n",
       "      <td>-0.863291</td>\n",
       "      <td>-0.010309</td>\n",
       "      <td>1.247203</td>\n",
       "      <td>0.237609</td>\n",
       "      <td>0.377436</td>\n",
       "      <td>-1.387024</td>\n",
       "      <td>...</td>\n",
       "      <td>-0.108300</td>\n",
       "      <td>0.005274</td>\n",
       "      <td>-0.190321</td>\n",
       "      <td>-1.175575</td>\n",
       "      <td>0.647376</td>\n",
       "      <td>-0.221929</td>\n",
       "      <td>0.062723</td>\n",
       "      <td>0.061458</td>\n",
       "      <td>123.50</td>\n",
       "      <td>0</td>\n",
       "    </tr>\n",
       "    <tr>\n",
       "      <th>4</th>\n",
       "      <td>2.0</td>\n",
       "      <td>-1.158233</td>\n",
       "      <td>0.877737</td>\n",
       "      <td>1.548718</td>\n",
       "      <td>0.403034</td>\n",
       "      <td>-0.407193</td>\n",
       "      <td>0.095921</td>\n",
       "      <td>0.592941</td>\n",
       "      <td>-0.270533</td>\n",
       "      <td>0.817739</td>\n",
       "      <td>...</td>\n",
       "      <td>-0.009431</td>\n",
       "      <td>0.798278</td>\n",
       "      <td>-0.137458</td>\n",
       "      <td>0.141267</td>\n",
       "      <td>-0.206010</td>\n",
       "      <td>0.502292</td>\n",
       "      <td>0.219422</td>\n",
       "      <td>0.215153</td>\n",
       "      <td>69.99</td>\n",
       "      <td>0</td>\n",
       "    </tr>\n",
       "  </tbody>\n",
       "</table>\n",
       "<p>5 rows × 31 columns</p>\n",
       "</div>"
      ],
      "text/plain": [
       "   Time        V1        V2        V3        V4        V5        V6        V7  \\\n",
       "0   0.0 -1.359807 -0.072781  2.536347  1.378155 -0.338321  0.462388  0.239599   \n",
       "1   0.0  1.191857  0.266151  0.166480  0.448154  0.060018 -0.082361 -0.078803   \n",
       "2   1.0 -1.358354 -1.340163  1.773209  0.379780 -0.503198  1.800499  0.791461   \n",
       "3   1.0 -0.966272 -0.185226  1.792993 -0.863291 -0.010309  1.247203  0.237609   \n",
       "4   2.0 -1.158233  0.877737  1.548718  0.403034 -0.407193  0.095921  0.592941   \n",
       "\n",
       "         V8        V9  ...       V21       V22       V23       V24       V25  \\\n",
       "0  0.098698  0.363787  ... -0.018307  0.277838 -0.110474  0.066928  0.128539   \n",
       "1  0.085102 -0.255425  ... -0.225775 -0.638672  0.101288 -0.339846  0.167170   \n",
       "2  0.247676 -1.514654  ...  0.247998  0.771679  0.909412 -0.689281 -0.327642   \n",
       "3  0.377436 -1.387024  ... -0.108300  0.005274 -0.190321 -1.175575  0.647376   \n",
       "4 -0.270533  0.817739  ... -0.009431  0.798278 -0.137458  0.141267 -0.206010   \n",
       "\n",
       "        V26       V27       V28  Amount  Class  \n",
       "0 -0.189115  0.133558 -0.021053  149.62      0  \n",
       "1  0.125895 -0.008983  0.014724    2.69      0  \n",
       "2 -0.139097 -0.055353 -0.059752  378.66      0  \n",
       "3 -0.221929  0.062723  0.061458  123.50      0  \n",
       "4  0.502292  0.219422  0.215153   69.99      0  \n",
       "\n",
       "[5 rows x 31 columns]"
      ]
     },
     "execution_count": 13,
     "metadata": {},
     "output_type": "execute_result"
    }
   ],
   "source": [
    "import pandas as pd\n",
    "data = pd.read_csv('data/creditcard.csv')\n",
    "data.head()"
   ]
  },
  {
   "cell_type": "code",
   "execution_count": 14,
   "metadata": {},
   "outputs": [
    {
     "name": "stdout",
     "output_type": "stream",
     "text": [
      "(284807, 30) (284807,)\n"
     ]
    }
   ],
   "source": [
    "X = data.to_numpy()[:,:-1]\n",
    "y = data.to_numpy()[:,-1]\n",
    "\n",
    "print(X.shape, y.shape)"
   ]
  },
  {
   "cell_type": "code",
   "execution_count": 15,
   "metadata": {},
   "outputs": [],
   "source": [
    "X_norm = sklearn.preprocessing.StandardScaler().fit_transform(X)\n",
    "mean = np.mean(X_norm, axis = 0)\n",
    "cov = np.cov(X_norm, rowvar = False)\n",
    "model_gauss = multivariate_normal(mean,cov)"
   ]
  },
  {
   "cell_type": "markdown",
   "metadata": {
    "collapsed": true
   },
   "source": [
    "# Sistemas de recomendação\n",
    "\n",
    "Leia os 3 últimos slides da Aula 9 (adicionados após a aula) para compreender a operação de **_embedding_**.\n",
    "\n",
    "Para ilustrar a utilização com Keras, observe o exemplo abaixo (conjunto de dados retirado dos slides)."
   ]
  },
  {
   "cell_type": "code",
   "execution_count": 12,
   "metadata": {},
   "outputs": [
    {
     "name": "stderr",
     "output_type": "stream",
     "text": [
      "Using TensorFlow backend.\n"
     ]
    },
    {
     "name": "stdout",
     "output_type": "stream",
     "text": [
      "Model: \"model_1\"\n",
      "__________________________________________________________________________________________________\n",
      "Layer (type)                    Output Shape         Param #     Connected to                     \n",
      "==================================================================================================\n",
      "input_1 (InputLayer)            (None, 1)            0                                            \n",
      "__________________________________________________________________________________________________\n",
      "input_2 (InputLayer)            (None, 1)            0                                            \n",
      "__________________________________________________________________________________________________\n",
      "embedding_1 (Embedding)         (None, 1, 2)         8           input_1[0][0]                    \n",
      "__________________________________________________________________________________________________\n",
      "embedding_2 (Embedding)         (None, 1, 2)         10          input_2[0][0]                    \n",
      "__________________________________________________________________________________________________\n",
      "reshape_1 (Reshape)             (None, 2)            0           embedding_1[0][0]                \n",
      "__________________________________________________________________________________________________\n",
      "reshape_2 (Reshape)             (None, 2)            0           embedding_2[0][0]                \n",
      "__________________________________________________________________________________________________\n",
      "dot_1 (Dot)                     (None, 1)            0           reshape_1[0][0]                  \n",
      "                                                                 reshape_2[0][0]                  \n",
      "==================================================================================================\n",
      "Total params: 18\n",
      "Trainable params: 18\n",
      "Non-trainable params: 0\n",
      "__________________________________________________________________________________________________\n"
     ]
    }
   ],
   "source": [
    "from keras.models import Model\n",
    "from keras.layers import Input, Reshape, Dot\n",
    "from keras.layers.embeddings import Embedding\n",
    "from keras.optimizers import Adam\n",
    "\n",
    "n_users = 4\n",
    "n_items = 5\n",
    "n_factors = 2\n",
    "\n",
    "data = np.array([[0,0,0],\n",
    "                 [0,1,0],\n",
    "                 [0,3,4],\n",
    "                 [1,0,5],\n",
    "                 [1,1,5],\n",
    "                 [1,3,0],\n",
    "                 [1,4,0],\n",
    "                 [2,0,5],\n",
    "                 [2,2,4],\n",
    "                 [2,3,0],\n",
    "                 [2,4,0],\n",
    "                 [3,0,0],\n",
    "                 [3,2,0],\n",
    "                 [3,3,5],\n",
    "                 [3,4,5]])\n",
    "\n",
    "x = [data[:,0], data[:,1]] # list of length 2, corresponding to 2 inputs\n",
    "y = data[:,2]\n",
    "\n",
    "input_1 = Input(shape=(1,))\n",
    "latent_1 = Embedding(n_users, n_factors)(input_1)\n",
    "latent_1 = Reshape((n_factors,))(latent_1)\n",
    "\n",
    "input_2 = Input(shape=(1,))\n",
    "latent_2 = Embedding(n_items, n_factors)(input_2)\n",
    "latent_2 = Reshape((n_factors,))(latent_2)\n",
    "\n",
    "output = Dot(axes=1)([latent_1, latent_2])\n",
    "\n",
    "model = Model(inputs=[input_1, input_2], outputs=output)\n",
    "\n",
    "model.summary()"
   ]
  },
  {
   "cell_type": "code",
   "execution_count": 3,
   "metadata": {
    "scrolled": true
   },
   "outputs": [
    {
     "name": "stdout",
     "output_type": "stream",
     "text": [
      "WARNING:tensorflow:From C:\\ProgramData\\Anaconda3\\lib\\site-packages\\keras\\optimizers.py:793: The name tf.train.Optimizer is deprecated. Please use tf.compat.v1.train.Optimizer instead.\n",
      "\n",
      "WARNING:tensorflow:From C:\\ProgramData\\Anaconda3\\lib\\site-packages\\keras\\backend\\tensorflow_backend.py:1033: The name tf.assign_add is deprecated. Please use tf.compat.v1.assign_add instead.\n",
      "\n",
      "WARNING:tensorflow:From C:\\ProgramData\\Anaconda3\\lib\\site-packages\\keras\\backend\\tensorflow_backend.py:1020: The name tf.assign is deprecated. Please use tf.compat.v1.assign instead.\n",
      "\n",
      "Epoch 1/80\n",
      "15/15 [==============================] - 0s 6ms/step - loss: 10.4692\n",
      "Epoch 2/80\n",
      "15/15 [==============================] - 0s 66us/step - loss: 10.4484\n",
      "Epoch 3/80\n",
      "15/15 [==============================] - 0s 66us/step - loss: 10.3305\n",
      "Epoch 4/80\n",
      "15/15 [==============================] - 0s 66us/step - loss: 10.1591\n",
      "Epoch 5/80\n",
      "15/15 [==============================] - 0s 32us/step - loss: 9.9110\n",
      "Epoch 6/80\n",
      "15/15 [==============================] - 0s 99us/step - loss: 9.5594\n",
      "Epoch 7/80\n",
      "15/15 [==============================] - 0s 66us/step - loss: 9.1013\n",
      "Epoch 8/80\n",
      "15/15 [==============================] - 0s 99us/step - loss: 8.5425\n",
      "Epoch 9/80\n",
      "15/15 [==============================] - 0s 66us/step - loss: 7.9005\n",
      "Epoch 10/80\n",
      "15/15 [==============================] - 0s 99us/step - loss: 7.2067\n",
      "Epoch 11/80\n",
      "15/15 [==============================] - 0s 66us/step - loss: 6.5115\n",
      "Epoch 12/80\n",
      "15/15 [==============================] - 0s 33us/step - loss: 5.8699\n",
      "Epoch 13/80\n",
      "15/15 [==============================] - 0s 66us/step - loss: 5.3479\n",
      "Epoch 14/80\n",
      "15/15 [==============================] - 0s 66us/step - loss: 4.9837\n",
      "Epoch 15/80\n",
      "15/15 [==============================] - 0s 66us/step - loss: 4.7674\n",
      "Epoch 16/80\n",
      "15/15 [==============================] - 0s 66us/step - loss: 4.6262\n",
      "Epoch 17/80\n",
      "15/15 [==============================] - 0s 132us/step - loss: 4.4586\n",
      "Epoch 18/80\n",
      "15/15 [==============================] - 0s 99us/step - loss: 4.1957\n",
      "Epoch 19/80\n",
      "15/15 [==============================] - 0s 99us/step - loss: 3.8189\n",
      "Epoch 20/80\n",
      "15/15 [==============================] - 0s 66us/step - loss: 3.3451\n",
      "Epoch 21/80\n",
      "15/15 [==============================] - 0s 99us/step - loss: 2.8097\n",
      "Epoch 22/80\n",
      "15/15 [==============================] - 0s 98us/step - loss: 2.2549\n",
      "Epoch 23/80\n",
      "15/15 [==============================] - 0s 66us/step - loss: 1.7184\n",
      "Epoch 24/80\n",
      "15/15 [==============================] - 0s 66us/step - loss: 1.2477\n",
      "Epoch 25/80\n",
      "15/15 [==============================] - 0s 64us/step - loss: 0.8803\n",
      "Epoch 26/80\n",
      "15/15 [==============================] - 0s 66us/step - loss: 0.6303\n",
      "Epoch 27/80\n",
      "15/15 [==============================] - 0s 66us/step - loss: 0.4995\n",
      "Epoch 28/80\n",
      "15/15 [==============================] - 0s 33us/step - loss: 0.4713\n",
      "Epoch 29/80\n",
      "15/15 [==============================] - 0s 99us/step - loss: 0.5140\n",
      "Epoch 30/80\n",
      "15/15 [==============================] - 0s 100us/step - loss: 0.5861\n",
      "Epoch 31/80\n",
      "15/15 [==============================] - 0s 64us/step - loss: 0.6464\n",
      "Epoch 32/80\n",
      "15/15 [==============================] - 0s 66us/step - loss: 0.6661\n",
      "Epoch 33/80\n",
      "15/15 [==============================] - 0s 65us/step - loss: 0.6363\n",
      "Epoch 34/80\n",
      "15/15 [==============================] - 0s 65us/step - loss: 0.5665\n",
      "Epoch 35/80\n",
      "15/15 [==============================] - 0s 66us/step - loss: 0.4772\n",
      "Epoch 36/80\n",
      "15/15 [==============================] - 0s 99us/step - loss: 0.3897\n",
      "Epoch 37/80\n",
      "15/15 [==============================] - 0s 66us/step - loss: 0.3186\n",
      "Epoch 38/80\n",
      "15/15 [==============================] - 0s 66us/step - loss: 0.2694\n",
      "Epoch 39/80\n",
      "15/15 [==============================] - 0s 66us/step - loss: 0.2403\n",
      "Epoch 40/80\n",
      "15/15 [==============================] - 0s 66us/step - loss: 0.2253\n",
      "Epoch 41/80\n",
      "15/15 [==============================] - 0s 67us/step - loss: 0.2175\n",
      "Epoch 42/80\n",
      "15/15 [==============================] - 0s 33us/step - loss: 0.2114\n",
      "Epoch 43/80\n",
      "15/15 [==============================] - 0s 33us/step - loss: 0.2033\n",
      "Epoch 44/80\n",
      "15/15 [==============================] - 0s 66us/step - loss: 0.1915\n",
      "Epoch 45/80\n",
      "15/15 [==============================] - 0s 66us/step - loss: 0.1757\n",
      "Epoch 46/80\n",
      "15/15 [==============================] - 0s 99us/step - loss: 0.1565\n",
      "Epoch 47/80\n",
      "15/15 [==============================] - 0s 65us/step - loss: 0.1355\n",
      "Epoch 48/80\n",
      "15/15 [==============================] - 0s 66us/step - loss: 0.1143\n",
      "Epoch 49/80\n",
      "15/15 [==============================] - 0s 66us/step - loss: 0.0947\n",
      "Epoch 50/80\n",
      "15/15 [==============================] - 0s 66us/step - loss: 0.0782\n",
      "Epoch 51/80\n",
      "15/15 [==============================] - 0s 64us/step - loss: 0.0655\n",
      "Epoch 52/80\n",
      "15/15 [==============================] - 0s 31us/step - loss: 0.0568\n",
      "Epoch 53/80\n",
      "15/15 [==============================] - 0s 98us/step - loss: 0.0516\n",
      "Epoch 54/80\n",
      "15/15 [==============================] - 0s 67us/step - loss: 0.0491\n",
      "Epoch 55/80\n",
      "15/15 [==============================] - 0s 66us/step - loss: 0.0480\n",
      "Epoch 56/80\n",
      "15/15 [==============================] - 0s 66us/step - loss: 0.0474\n",
      "Epoch 57/80\n",
      "15/15 [==============================] - 0s 66us/step - loss: 0.0462\n",
      "Epoch 58/80\n",
      "15/15 [==============================] - 0s 65us/step - loss: 0.0441\n",
      "Epoch 59/80\n",
      "15/15 [==============================] - 0s 66us/step - loss: 0.0409\n",
      "Epoch 60/80\n",
      "15/15 [==============================] - 0s 99us/step - loss: 0.0369\n",
      "Epoch 61/80\n",
      "15/15 [==============================] - 0s 66us/step - loss: 0.0324\n",
      "Epoch 62/80\n",
      "15/15 [==============================] - 0s 98us/step - loss: 0.0278\n",
      "Epoch 63/80\n",
      "15/15 [==============================] - 0s 66us/step - loss: 0.0237\n",
      "Epoch 64/80\n",
      "15/15 [==============================] - 0s 66us/step - loss: 0.0202\n",
      "Epoch 65/80\n",
      "15/15 [==============================] - 0s 65us/step - loss: 0.0175\n",
      "Epoch 66/80\n",
      "15/15 [==============================] - 0s 66us/step - loss: 0.0157\n",
      "Epoch 67/80\n",
      "15/15 [==============================] - 0s 65us/step - loss: 0.0145\n",
      "Epoch 68/80\n",
      "15/15 [==============================] - 0s 66us/step - loss: 0.0139\n",
      "Epoch 69/80\n",
      "15/15 [==============================] - 0s 99us/step - loss: 0.0136\n",
      "Epoch 70/80\n",
      "15/15 [==============================] - 0s 66us/step - loss: 0.0132\n",
      "Epoch 71/80\n",
      "15/15 [==============================] - 0s 66us/step - loss: 0.0127\n",
      "Epoch 72/80\n",
      "15/15 [==============================] - 0s 64us/step - loss: 0.0117\n",
      "Epoch 73/80\n",
      "15/15 [==============================] - 0s 68us/step - loss: 0.0104\n",
      "Epoch 74/80\n",
      "15/15 [==============================] - 0s 65us/step - loss: 0.0089\n",
      "Epoch 75/80\n",
      "15/15 [==============================] - 0s 32us/step - loss: 0.0073\n",
      "Epoch 76/80\n",
      "15/15 [==============================] - 0s 32us/step - loss: 0.0059\n",
      "Epoch 77/80\n",
      "15/15 [==============================] - 0s 66us/step - loss: 0.0048\n",
      "Epoch 78/80\n",
      "15/15 [==============================] - 0s 66us/step - loss: 0.0042\n",
      "Epoch 79/80\n",
      "15/15 [==============================] - 0s 66us/step - loss: 0.0040\n",
      "Epoch 80/80\n",
      "15/15 [==============================] - 0s 66us/step - loss: 0.0041\n"
     ]
    },
    {
     "data": {
      "text/plain": [
       "<keras.callbacks.History at 0x200d14fbda0>"
      ]
     },
     "execution_count": 3,
     "metadata": {},
     "output_type": "execute_result"
    }
   ],
   "source": [
    "model.compile(loss='mean_squared_error', optimizer=Adam(lr=0.1))\n",
    "model.fit(x=x, y=y, epochs=80)"
   ]
  },
  {
   "cell_type": "code",
   "execution_count": 4,
   "metadata": {},
   "outputs": [
    {
     "name": "stdout",
     "output_type": "stream",
     "text": [
      "[[0.08145317]]\n",
      "[[4.0695596]]\n"
     ]
    }
   ],
   "source": [
    "# Would Alice enjoy X-Men?\n",
    "print(model.predict([np.array([0]),np.array([2])]))\n",
    "\n",
    "# Would Alice enjoy Pretty Woman?\n",
    "print(model.predict([np.array([0]),np.array([4])]))"
   ]
  },
  {
   "cell_type": "markdown",
   "metadata": {},
   "source": [
    "## Conjunto de dados #4\n",
    "\n",
    "Baseado no exemplo acima, desenvolva um modelo de predição para o conjunto de dados [MovieLens 100k Dataset](https://grouplens.org/datasets/movielens/100k/), o qual consiste de 100000 avaliações de filmes em uma escala de 1 a 5, feitas por 943 usuários sobre 1682 filmes. Certifique-se de separar o conjunto em treinamento e teste, para posteriormente testar suas predições.\n",
    "\n",
    "(OPCIONAL) Para melhorar o desempenho do modelo, introduza *biases* de usuários e de filmes, e possivelmente mais camadas ocultas, conforme exemplo em:\n",
    "\n",
    "https://medium.com/@jdwittenauer/deep-learning-with-keras-recommender-systems-e7b99cb29929"
   ]
  },
  {
   "cell_type": "code",
   "execution_count": null,
   "metadata": {},
   "outputs": [],
   "source": [
    "\n"
   ]
  }
 ],
 "metadata": {
  "kernelspec": {
   "display_name": "Python 3 (ipykernel)",
   "language": "python",
   "name": "python3"
  },
  "language_info": {
   "codemirror_mode": {
    "name": "ipython",
    "version": 3
   },
   "file_extension": ".py",
   "mimetype": "text/x-python",
   "name": "python",
   "nbconvert_exporter": "python",
   "pygments_lexer": "ipython3",
   "version": "3.8.10"
  }
 },
 "nbformat": 4,
 "nbformat_minor": 2
}
