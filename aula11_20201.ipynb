{
  "nbformat": 4,
  "nbformat_minor": 0,
  "metadata": {
    "colab": {
      "name": "aula11-20201.ipynb",
      "provenance": [],
      "collapsed_sections": []
    },
    "kernelspec": {
      "name": "python3",
      "display_name": "Python 3"
    },
    "accelerator": "GPU"
  },
  "cells": [
    {
      "cell_type": "markdown",
      "metadata": {
        "id": "uWQ7FRQez-Ft"
      },
      "source": [
        "Universidade Federal de Santa Catarina<br>\n",
        "Departamento de Engenharia Elétrica e Eletrônica<br>\n",
        "EEL7514 / EEL7513 / EEL410250 - Aprendizado de Máquina\n",
        "$\\newcommand{\\bX}{\\mathbf{X}}$\n",
        "$\\newcommand{\\bw}{\\mathbf{w}}$\n",
        "$\\newcommand{\\by}{\\mathbf{y}}$\n",
        "$\\newcommand{\\bx}{\\mathbf{x}}$\n",
        "$\\newcommand{\\bU}{\\mathbf{U}}$\n",
        "$\\newcommand{\\bu}{\\mathbf{u}}$\n",
        "$\\newcommand{\\bT}{\\mathbf{T}}$\n",
        "$\\newcommand{\\RR}{\\mathbb{R}}$\n",
        "$\\newcommand{\\calS}{\\mathcal{S}}$\n",
        "\n",
        "\n",
        "# Aula 11: Redes Recorrentes\n",
        "\n",
        "Exemplo baseado em https://machinelearningmastery.com/sequence-classification-lstm-recurrent-neural-networks-python-keras/\n",
        "\n",
        "Conjunto de dados original em http://ai.stanford.edu/~amaas/data/sentiment/"
      ]
    },
    {
      "cell_type": "code",
      "metadata": {
        "scrolled": true,
        "id": "YHsrXmvzz-Fv",
        "colab": {
          "base_uri": "https://localhost:8080/"
        },
        "outputId": "7d8560f4-4a82-4d3c-da89-32fcdcc13f4a"
      },
      "source": [
        "import numpy as np\n",
        "import matplotlib.pyplot as plt\n",
        "\n",
        "import sys\n",
        "print('Python version:', sys.version.split(' ')[0])\n",
        "\n",
        "import tensorflow as tf\n",
        "print('TensorFlow version:', tf.__version__)\n",
        "\n",
        "gpu = !nvidia-smi -L\n",
        "gpu = gpu[0].split(' (')[0]\n",
        "print('GPU: None' if 'failed' in gpu else gpu, '\\n')\n",
        "\n",
        "from tensorflow.keras.datasets import imdb\n",
        "from tensorflow.keras.preprocessing.sequence import pad_sequences"
      ],
      "execution_count": 1,
      "outputs": [
        {
          "output_type": "stream",
          "text": [
            "Python version: 3.7.10\n",
            "TensorFlow version: 2.4.1\n",
            "GPU 0: Tesla T4 \n",
            "\n"
          ],
          "name": "stdout"
        }
      ]
    },
    {
      "cell_type": "code",
      "metadata": {
        "id": "mNmFSUYdz-F6"
      },
      "source": [
        "# load the dataset but only keep the top n words\n",
        "# (maximum is 88588)\n",
        "num_words = 5000 \n",
        "(x_train, y_train), (x_test, y_test) = imdb.load_data(num_words=num_words)"
      ],
      "execution_count": null,
      "outputs": []
    },
    {
      "cell_type": "code",
      "metadata": {
        "id": "CpHbgO5uz-GA",
        "colab": {
          "base_uri": "https://localhost:8080/"
        },
        "outputId": "8ac352ff-1fc9-4d16-d314-7f7d68788702"
      },
      "source": [
        "# dataset is an array of lists of different lengths\n",
        "print(x_train.shape, x_test.shape)\n",
        "x_train[:3]"
      ],
      "execution_count": null,
      "outputs": [
        {
          "output_type": "stream",
          "text": [
            "(25000,) (25000,)\n"
          ],
          "name": "stdout"
        },
        {
          "output_type": "execute_result",
          "data": {
            "text/plain": [
              "array([list([1, 14, 22, 16, 43, 530, 973, 1622, 1385, 65, 458, 4468, 66, 3941, 4, 173, 36, 256, 5, 25, 100, 43, 838, 112, 50, 670, 2, 9, 35, 480, 284, 5, 150, 4, 172, 112, 167, 2, 336, 385, 39, 4, 172, 4536, 1111, 17, 546, 38, 13, 447, 4, 192, 50, 16, 6, 147, 2025, 19, 14, 22, 4, 1920, 4613, 469, 4, 22, 71, 87, 12, 16, 43, 530, 38, 76, 15, 13, 1247, 4, 22, 17, 515, 17, 12, 16, 626, 18, 2, 5, 62, 386, 12, 8, 316, 8, 106, 5, 4, 2223, 2, 16, 480, 66, 3785, 33, 4, 130, 12, 16, 38, 619, 5, 25, 124, 51, 36, 135, 48, 25, 1415, 33, 6, 22, 12, 215, 28, 77, 52, 5, 14, 407, 16, 82, 2, 8, 4, 107, 117, 2, 15, 256, 4, 2, 7, 3766, 5, 723, 36, 71, 43, 530, 476, 26, 400, 317, 46, 7, 4, 2, 1029, 13, 104, 88, 4, 381, 15, 297, 98, 32, 2071, 56, 26, 141, 6, 194, 2, 18, 4, 226, 22, 21, 134, 476, 26, 480, 5, 144, 30, 2, 18, 51, 36, 28, 224, 92, 25, 104, 4, 226, 65, 16, 38, 1334, 88, 12, 16, 283, 5, 16, 4472, 113, 103, 32, 15, 16, 2, 19, 178, 32]),\n",
              "       list([1, 194, 1153, 194, 2, 78, 228, 5, 6, 1463, 4369, 2, 134, 26, 4, 715, 8, 118, 1634, 14, 394, 20, 13, 119, 954, 189, 102, 5, 207, 110, 3103, 21, 14, 69, 188, 8, 30, 23, 7, 4, 249, 126, 93, 4, 114, 9, 2300, 1523, 5, 647, 4, 116, 9, 35, 2, 4, 229, 9, 340, 1322, 4, 118, 9, 4, 130, 4901, 19, 4, 1002, 5, 89, 29, 952, 46, 37, 4, 455, 9, 45, 43, 38, 1543, 1905, 398, 4, 1649, 26, 2, 5, 163, 11, 3215, 2, 4, 1153, 9, 194, 775, 7, 2, 2, 349, 2637, 148, 605, 2, 2, 15, 123, 125, 68, 2, 2, 15, 349, 165, 4362, 98, 5, 4, 228, 9, 43, 2, 1157, 15, 299, 120, 5, 120, 174, 11, 220, 175, 136, 50, 9, 4373, 228, 2, 5, 2, 656, 245, 2350, 5, 4, 2, 131, 152, 491, 18, 2, 32, 2, 1212, 14, 9, 6, 371, 78, 22, 625, 64, 1382, 9, 8, 168, 145, 23, 4, 1690, 15, 16, 4, 1355, 5, 28, 6, 52, 154, 462, 33, 89, 78, 285, 16, 145, 95]),\n",
              "       list([1, 14, 47, 8, 30, 31, 7, 4, 249, 108, 7, 4, 2, 54, 61, 369, 13, 71, 149, 14, 22, 112, 4, 2401, 311, 12, 16, 3711, 33, 75, 43, 1829, 296, 4, 86, 320, 35, 534, 19, 263, 4821, 1301, 4, 1873, 33, 89, 78, 12, 66, 16, 4, 360, 7, 4, 58, 316, 334, 11, 4, 1716, 43, 645, 662, 8, 257, 85, 1200, 42, 1228, 2578, 83, 68, 3912, 15, 36, 165, 1539, 278, 36, 69, 2, 780, 8, 106, 14, 2, 1338, 18, 6, 22, 12, 215, 28, 610, 40, 6, 87, 326, 23, 2300, 21, 23, 22, 12, 272, 40, 57, 31, 11, 4, 22, 47, 6, 2307, 51, 9, 170, 23, 595, 116, 595, 1352, 13, 191, 79, 638, 89, 2, 14, 9, 8, 106, 607, 624, 35, 534, 6, 227, 7, 129, 113])],\n",
              "      dtype=object)"
            ]
          },
          "metadata": {
            "tags": []
          },
          "execution_count": 3
        }
      ]
    },
    {
      "cell_type": "code",
      "metadata": {
        "id": "ZnPXHV6Xz-GG",
        "colab": {
          "base_uri": "https://localhost:8080/"
        },
        "outputId": "37a95a6e-67fe-4be2-89aa-48a1e27c4e7a"
      },
      "source": [
        "# get vocabulary (see imdb.load_data() docstring for info on special characters)\n",
        "words = {i+3: w for w, i in imdb.get_word_index().items()}\n",
        "words[0] = '_'          # padding\n",
        "words[1] = '<START>'    # marks the start of a sequence\n",
        "words[2] = '<REMOVED>'  # replaces words that were cut out because of the `num_words` or `skip_top` limit\n",
        "words[3] = '<NOT_USED>'\n",
        "\n",
        "def decode(x):\n",
        "    return ' '.join([words[i] for i in x])\n",
        "\n",
        "for i in sorted(words)[:20]:\n",
        "    print(str(i),words[i])"
      ],
      "execution_count": null,
      "outputs": [
        {
          "output_type": "stream",
          "text": [
            "0 _\n",
            "1 <START>\n",
            "2 <REMOVED>\n",
            "3 <NOT_USED>\n",
            "4 the\n",
            "5 and\n",
            "6 a\n",
            "7 of\n",
            "8 to\n",
            "9 is\n",
            "10 br\n",
            "11 in\n",
            "12 it\n",
            "13 i\n",
            "14 this\n",
            "15 that\n",
            "16 was\n",
            "17 as\n",
            "18 for\n",
            "19 with\n"
          ],
          "name": "stdout"
        }
      ]
    },
    {
      "cell_type": "code",
      "metadata": {
        "id": "PsuZ3OQdz-GK",
        "colab": {
          "base_uri": "https://localhost:8080/"
        },
        "outputId": "f99275de-f2f3-4315-ddd8-64d76ef6b285"
      },
      "source": [
        "i = 0\n",
        "print('Sample (word indices):',x_train[i],'\\n')\n",
        "print('Sample (text):',decode(x_train[i]),'\\n')\n",
        "print('Label:',y_train[i])"
      ],
      "execution_count": null,
      "outputs": [
        {
          "output_type": "stream",
          "text": [
            "Sample (word indices): [1, 14, 22, 16, 43, 530, 973, 1622, 1385, 65, 458, 4468, 66, 3941, 4, 173, 36, 256, 5, 25, 100, 43, 838, 112, 50, 670, 2, 9, 35, 480, 284, 5, 150, 4, 172, 112, 167, 2, 336, 385, 39, 4, 172, 4536, 1111, 17, 546, 38, 13, 447, 4, 192, 50, 16, 6, 147, 2025, 19, 14, 22, 4, 1920, 4613, 469, 4, 22, 71, 87, 12, 16, 43, 530, 38, 76, 15, 13, 1247, 4, 22, 17, 515, 17, 12, 16, 626, 18, 2, 5, 62, 386, 12, 8, 316, 8, 106, 5, 4, 2223, 2, 16, 480, 66, 3785, 33, 4, 130, 12, 16, 38, 619, 5, 25, 124, 51, 36, 135, 48, 25, 1415, 33, 6, 22, 12, 215, 28, 77, 52, 5, 14, 407, 16, 82, 2, 8, 4, 107, 117, 2, 15, 256, 4, 2, 7, 3766, 5, 723, 36, 71, 43, 530, 476, 26, 400, 317, 46, 7, 4, 2, 1029, 13, 104, 88, 4, 381, 15, 297, 98, 32, 2071, 56, 26, 141, 6, 194, 2, 18, 4, 226, 22, 21, 134, 476, 26, 480, 5, 144, 30, 2, 18, 51, 36, 28, 224, 92, 25, 104, 4, 226, 65, 16, 38, 1334, 88, 12, 16, 283, 5, 16, 4472, 113, 103, 32, 15, 16, 2, 19, 178, 32] \n",
            "\n",
            "Sample (text): <START> this film was just brilliant casting location scenery story direction everyone's really suited the part they played and you could just imagine being there robert <REMOVED> is an amazing actor and now the same being director <REMOVED> father came from the same scottish island as myself so i loved the fact there was a real connection with this film the witty remarks throughout the film were great it was just brilliant so much that i bought the film as soon as it was released for <REMOVED> and would recommend it to everyone to watch and the fly <REMOVED> was amazing really cried at the end it was so sad and you know what they say if you cry at a film it must have been good and this definitely was also <REMOVED> to the two little <REMOVED> that played the <REMOVED> of norman and paul they were just brilliant children are often left out of the <REMOVED> list i think because the stars that play them all grown up are such a big <REMOVED> for the whole film but these children are amazing and should be <REMOVED> for what they have done don't you think the whole story was so lovely because it was true and was someone's life after all that was <REMOVED> with us all \n",
            "\n",
            "Label: 1\n"
          ],
          "name": "stdout"
        }
      ]
    },
    {
      "cell_type": "code",
      "metadata": {
        "id": "9w2APup-z-GP",
        "colab": {
          "base_uri": "https://localhost:8080/"
        },
        "outputId": "57ca9069-9dca-4377-d65a-314a68dfea6a"
      },
      "source": [
        "i = 2\n",
        "print('Sample (word indices):',x_train[i],'\\n')\n",
        "print('Sample (text):',decode(x_train[i]),'\\n')\n",
        "print('Label:',y_train[i])"
      ],
      "execution_count": null,
      "outputs": [
        {
          "output_type": "stream",
          "text": [
            "Sample (word indices): [1, 14, 47, 8, 30, 31, 7, 4, 249, 108, 7, 4, 2, 54, 61, 369, 13, 71, 149, 14, 22, 112, 4, 2401, 311, 12, 16, 3711, 33, 75, 43, 1829, 296, 4, 86, 320, 35, 534, 19, 263, 4821, 1301, 4, 1873, 33, 89, 78, 12, 66, 16, 4, 360, 7, 4, 58, 316, 334, 11, 4, 1716, 43, 645, 662, 8, 257, 85, 1200, 42, 1228, 2578, 83, 68, 3912, 15, 36, 165, 1539, 278, 36, 69, 2, 780, 8, 106, 14, 2, 1338, 18, 6, 22, 12, 215, 28, 610, 40, 6, 87, 326, 23, 2300, 21, 23, 22, 12, 272, 40, 57, 31, 11, 4, 22, 47, 6, 2307, 51, 9, 170, 23, 595, 116, 595, 1352, 13, 191, 79, 638, 89, 2, 14, 9, 8, 106, 607, 624, 35, 534, 6, 227, 7, 129, 113] \n",
            "\n",
            "Sample (text): <START> this has to be one of the worst films of the <REMOVED> when my friends i were watching this film being the target audience it was aimed at we just sat watched the first half an hour with our jaws touching the floor at how bad it really was the rest of the time everyone else in the theatre just started talking to each other leaving or generally crying into their popcorn that they actually paid money they had <REMOVED> working to watch this <REMOVED> excuse for a film it must have looked like a great idea on paper but on film it looks like no one in the film has a clue what is going on crap acting crap costumes i can't get across how <REMOVED> this is to watch save yourself an hour a bit of your life \n",
            "\n",
            "Label: 0\n"
          ],
          "name": "stdout"
        }
      ]
    },
    {
      "cell_type": "code",
      "metadata": {
        "id": "LaWVwsNkz-GW"
      },
      "source": [
        "# truncate and pad input sequences\n",
        "input_len = 500\n",
        "x_train = pad_sequences(x_train, maxlen=input_len)\n",
        "x_test = pad_sequences(x_test, maxlen=input_len)"
      ],
      "execution_count": null,
      "outputs": []
    },
    {
      "cell_type": "code",
      "metadata": {
        "id": "Vt0_vv17z-GZ",
        "colab": {
          "base_uri": "https://localhost:8080/"
        },
        "outputId": "50677fad-c249-4e9b-cd1a-664df9711b27"
      },
      "source": [
        "# now each sample is an array of the same length and x is a 2D array\n",
        "print(x_train.shape, x_test.shape)"
      ],
      "execution_count": null,
      "outputs": [
        {
          "output_type": "stream",
          "text": [
            "(25000, 500) (25000, 500)\n"
          ],
          "name": "stdout"
        }
      ]
    },
    {
      "cell_type": "code",
      "metadata": {
        "id": "Q9cXO23sz-Gg",
        "colab": {
          "base_uri": "https://localhost:8080/"
        },
        "outputId": "fe34cd29-dea8-48a5-da5a-1c3be0282dbd"
      },
      "source": [
        "i = 0\n",
        "print('Sample (word indices):')\n",
        "print(x_train[i],'\\n')\n",
        "print('Sample (text):',decode(x_train[i]),'\\n')\n",
        "print('Label:',y_train[i])"
      ],
      "execution_count": null,
      "outputs": [
        {
          "output_type": "stream",
          "text": [
            "Sample (word indices):\n",
            "[   0    0    0    0    0    0    0    0    0    0    0    0    0    0\n",
            "    0    0    0    0    0    0    0    0    0    0    0    0    0    0\n",
            "    0    0    0    0    0    0    0    0    0    0    0    0    0    0\n",
            "    0    0    0    0    0    0    0    0    0    0    0    0    0    0\n",
            "    0    0    0    0    0    0    0    0    0    0    0    0    0    0\n",
            "    0    0    0    0    0    0    0    0    0    0    0    0    0    0\n",
            "    0    0    0    0    0    0    0    0    0    0    0    0    0    0\n",
            "    0    0    0    0    0    0    0    0    0    0    0    0    0    0\n",
            "    0    0    0    0    0    0    0    0    0    0    0    0    0    0\n",
            "    0    0    0    0    0    0    0    0    0    0    0    0    0    0\n",
            "    0    0    0    0    0    0    0    0    0    0    0    0    0    0\n",
            "    0    0    0    0    0    0    0    0    0    0    0    0    0    0\n",
            "    0    0    0    0    0    0    0    0    0    0    0    0    0    0\n",
            "    0    0    0    0    0    0    0    0    0    0    0    0    0    0\n",
            "    0    0    0    0    0    0    0    0    0    0    0    0    0    0\n",
            "    0    0    0    0    0    0    0    0    0    0    0    0    0    0\n",
            "    0    0    0    0    0    0    0    0    0    0    0    0    0    0\n",
            "    0    0    0    0    0    0    0    0    0    0    0    0    0    0\n",
            "    0    0    0    0    0    0    0    0    0    0    0    0    0    0\n",
            "    0    0    0    0    0    0    0    0    0    0    0    0    0    0\n",
            "    0    0    1   14   22   16   43  530  973 1622 1385   65  458 4468\n",
            "   66 3941    4  173   36  256    5   25  100   43  838  112   50  670\n",
            "    2    9   35  480  284    5  150    4  172  112  167    2  336  385\n",
            "   39    4  172 4536 1111   17  546   38   13  447    4  192   50   16\n",
            "    6  147 2025   19   14   22    4 1920 4613  469    4   22   71   87\n",
            "   12   16   43  530   38   76   15   13 1247    4   22   17  515   17\n",
            "   12   16  626   18    2    5   62  386   12    8  316    8  106    5\n",
            "    4 2223    2   16  480   66 3785   33    4  130   12   16   38  619\n",
            "    5   25  124   51   36  135   48   25 1415   33    6   22   12  215\n",
            "   28   77   52    5   14  407   16   82    2    8    4  107  117    2\n",
            "   15  256    4    2    7 3766    5  723   36   71   43  530  476   26\n",
            "  400  317   46    7    4    2 1029   13  104   88    4  381   15  297\n",
            "   98   32 2071   56   26  141    6  194    2   18    4  226   22   21\n",
            "  134  476   26  480    5  144   30    2   18   51   36   28  224   92\n",
            "   25  104    4  226   65   16   38 1334   88   12   16  283    5   16\n",
            " 4472  113  103   32   15   16    2   19  178   32] \n",
            "\n",
            "Sample (text): _ _ _ _ _ _ _ _ _ _ _ _ _ _ _ _ _ _ _ _ _ _ _ _ _ _ _ _ _ _ _ _ _ _ _ _ _ _ _ _ _ _ _ _ _ _ _ _ _ _ _ _ _ _ _ _ _ _ _ _ _ _ _ _ _ _ _ _ _ _ _ _ _ _ _ _ _ _ _ _ _ _ _ _ _ _ _ _ _ _ _ _ _ _ _ _ _ _ _ _ _ _ _ _ _ _ _ _ _ _ _ _ _ _ _ _ _ _ _ _ _ _ _ _ _ _ _ _ _ _ _ _ _ _ _ _ _ _ _ _ _ _ _ _ _ _ _ _ _ _ _ _ _ _ _ _ _ _ _ _ _ _ _ _ _ _ _ _ _ _ _ _ _ _ _ _ _ _ _ _ _ _ _ _ _ _ _ _ _ _ _ _ _ _ _ _ _ _ _ _ _ _ _ _ _ _ _ _ _ _ _ _ _ _ _ _ _ _ _ _ _ _ _ _ _ _ _ _ _ _ _ _ _ _ _ _ _ _ _ _ _ _ _ _ _ _ _ _ _ _ _ _ _ _ _ _ _ _ _ _ _ _ _ _ _ _ _ _ _ _ _ _ _ _ _ _ _ _ _ _ _ _ <START> this film was just brilliant casting location scenery story direction everyone's really suited the part they played and you could just imagine being there robert <REMOVED> is an amazing actor and now the same being director <REMOVED> father came from the same scottish island as myself so i loved the fact there was a real connection with this film the witty remarks throughout the film were great it was just brilliant so much that i bought the film as soon as it was released for <REMOVED> and would recommend it to everyone to watch and the fly <REMOVED> was amazing really cried at the end it was so sad and you know what they say if you cry at a film it must have been good and this definitely was also <REMOVED> to the two little <REMOVED> that played the <REMOVED> of norman and paul they were just brilliant children are often left out of the <REMOVED> list i think because the stars that play them all grown up are such a big <REMOVED> for the whole film but these children are amazing and should be <REMOVED> for what they have done don't you think the whole story was so lovely because it was true and was someone's life after all that was <REMOVED> with us all \n",
            "\n",
            "Label: 1\n"
          ],
          "name": "stdout"
        }
      ]
    },
    {
      "cell_type": "code",
      "metadata": {
        "id": "UodVlsEKz-Gm",
        "colab": {
          "base_uri": "https://localhost:8080/"
        },
        "outputId": "1ccd4e52-8d96-4d7e-8ecb-afa393908760"
      },
      "source": [
        "i = 2\n",
        "print('Sample (word indices):')\n",
        "print(x_train[i],'\\n')\n",
        "print('Sample (text):',decode(x_train[i]),'\\n')\n",
        "print('Label:',y_train[i])"
      ],
      "execution_count": null,
      "outputs": [
        {
          "output_type": "stream",
          "text": [
            "Sample (word indices):\n",
            "[   0    0    0    0    0    0    0    0    0    0    0    0    0    0\n",
            "    0    0    0    0    0    0    0    0    0    0    0    0    0    0\n",
            "    0    0    0    0    0    0    0    0    0    0    0    0    0    0\n",
            "    0    0    0    0    0    0    0    0    0    0    0    0    0    0\n",
            "    0    0    0    0    0    0    0    0    0    0    0    0    0    0\n",
            "    0    0    0    0    0    0    0    0    0    0    0    0    0    0\n",
            "    0    0    0    0    0    0    0    0    0    0    0    0    0    0\n",
            "    0    0    0    0    0    0    0    0    0    0    0    0    0    0\n",
            "    0    0    0    0    0    0    0    0    0    0    0    0    0    0\n",
            "    0    0    0    0    0    0    0    0    0    0    0    0    0    0\n",
            "    0    0    0    0    0    0    0    0    0    0    0    0    0    0\n",
            "    0    0    0    0    0    0    0    0    0    0    0    0    0    0\n",
            "    0    0    0    0    0    0    0    0    0    0    0    0    0    0\n",
            "    0    0    0    0    0    0    0    0    0    0    0    0    0    0\n",
            "    0    0    0    0    0    0    0    0    0    0    0    0    0    0\n",
            "    0    0    0    0    0    0    0    0    0    0    0    0    0    0\n",
            "    0    0    0    0    0    0    0    0    0    0    0    0    0    0\n",
            "    0    0    0    0    0    0    0    0    0    0    0    0    0    0\n",
            "    0    0    0    0    0    0    0    0    0    0    0    0    0    0\n",
            "    0    0    0    0    0    0    0    0    0    0    0    0    0    0\n",
            "    0    0    0    0    0    0    0    0    0    0    0    0    0    0\n",
            "    0    0    0    0    0    0    0    0    0    0    0    0    0    0\n",
            "    0    0    0    0    0    0    0    0    0    0    0    0    0    0\n",
            "    0    0    0    0    0    0    0    0    0    0    0    0    0    0\n",
            "    0    0    0    0    0    0    0    0    0    0    0    0    0    0\n",
            "    0    0    0    0    0    0    0    0    0    1   14   47    8   30\n",
            "   31    7    4  249  108    7    4    2   54   61  369   13   71  149\n",
            "   14   22  112    4 2401  311   12   16 3711   33   75   43 1829  296\n",
            "    4   86  320   35  534   19  263 4821 1301    4 1873   33   89   78\n",
            "   12   66   16    4  360    7    4   58  316  334   11    4 1716   43\n",
            "  645  662    8  257   85 1200   42 1228 2578   83   68 3912   15   36\n",
            "  165 1539  278   36   69    2  780    8  106   14    2 1338   18    6\n",
            "   22   12  215   28  610   40    6   87  326   23 2300   21   23   22\n",
            "   12  272   40   57   31   11    4   22   47    6 2307   51    9  170\n",
            "   23  595  116  595 1352   13  191   79  638   89    2   14    9    8\n",
            "  106  607  624   35  534    6  227    7  129  113] \n",
            "\n",
            "Sample (text): _ _ _ _ _ _ _ _ _ _ _ _ _ _ _ _ _ _ _ _ _ _ _ _ _ _ _ _ _ _ _ _ _ _ _ _ _ _ _ _ _ _ _ _ _ _ _ _ _ _ _ _ _ _ _ _ _ _ _ _ _ _ _ _ _ _ _ _ _ _ _ _ _ _ _ _ _ _ _ _ _ _ _ _ _ _ _ _ _ _ _ _ _ _ _ _ _ _ _ _ _ _ _ _ _ _ _ _ _ _ _ _ _ _ _ _ _ _ _ _ _ _ _ _ _ _ _ _ _ _ _ _ _ _ _ _ _ _ _ _ _ _ _ _ _ _ _ _ _ _ _ _ _ _ _ _ _ _ _ _ _ _ _ _ _ _ _ _ _ _ _ _ _ _ _ _ _ _ _ _ _ _ _ _ _ _ _ _ _ _ _ _ _ _ _ _ _ _ _ _ _ _ _ _ _ _ _ _ _ _ _ _ _ _ _ _ _ _ _ _ _ _ _ _ _ _ _ _ _ _ _ _ _ _ _ _ _ _ _ _ _ _ _ _ _ _ _ _ _ _ _ _ _ _ _ _ _ _ _ _ _ _ _ _ _ _ _ _ _ _ _ _ _ _ _ _ _ _ _ _ _ _ _ _ _ _ _ _ _ _ _ _ _ _ _ _ _ _ _ _ _ _ _ _ _ _ _ _ _ _ _ _ _ _ _ _ _ _ _ _ _ _ _ _ _ _ _ _ _ _ _ _ _ _ _ _ _ _ _ _ _ _ _ _ _ _ _ _ _ _ _ _ _ _ _ _ _ _ _ <START> this has to be one of the worst films of the <REMOVED> when my friends i were watching this film being the target audience it was aimed at we just sat watched the first half an hour with our jaws touching the floor at how bad it really was the rest of the time everyone else in the theatre just started talking to each other leaving or generally crying into their popcorn that they actually paid money they had <REMOVED> working to watch this <REMOVED> excuse for a film it must have looked like a great idea on paper but on film it looks like no one in the film has a clue what is going on crap acting crap costumes i can't get across how <REMOVED> this is to watch save yourself an hour a bit of your life \n",
            "\n",
            "Label: 0\n"
          ],
          "name": "stdout"
        }
      ]
    },
    {
      "cell_type": "markdown",
      "metadata": {
        "id": "dodWp0bqsoD8"
      },
      "source": [
        "# LSTM"
      ]
    },
    {
      "cell_type": "code",
      "metadata": {
        "id": "pfGJphSPs4zo"
      },
      "source": [
        "from tensorflow.keras import Sequential\n",
        "from tensorflow.keras.layers import Embedding, LSTM, Dense\n",
        "from tensorflow.keras.optimizers import Adam"
      ],
      "execution_count": null,
      "outputs": []
    },
    {
      "cell_type": "code",
      "metadata": {
        "id": "xnueFCTXz-Gy",
        "colab": {
          "base_uri": "https://localhost:8080/"
        },
        "outputId": "1780be87-e11a-4f7e-ff55-56b8bd936700"
      },
      "source": [
        "# create the model\n",
        "def get_model():\n",
        "  model = Sequential(\n",
        "      [\n",
        "       Embedding(num_words, 32, input_length=input_len),\n",
        "       LSTM(100),\n",
        "       Dense(1, activation='sigmoid')\n",
        "      ]\n",
        "  )\n",
        "  return model\n",
        "\n",
        "get_model().summary()"
      ],
      "execution_count": null,
      "outputs": [
        {
          "output_type": "stream",
          "text": [
            "Model: \"sequential\"\n",
            "_________________________________________________________________\n",
            "Layer (type)                 Output Shape              Param #   \n",
            "=================================================================\n",
            "embedding (Embedding)        (None, 500, 32)           160000    \n",
            "_________________________________________________________________\n",
            "lstm (LSTM)                  (None, 100)               53200     \n",
            "_________________________________________________________________\n",
            "dense (Dense)                (None, 1)                 101       \n",
            "=================================================================\n",
            "Total params: 213,301\n",
            "Trainable params: 213,301\n",
            "Non-trainable params: 0\n",
            "_________________________________________________________________\n"
          ],
          "name": "stdout"
        }
      ]
    },
    {
      "cell_type": "code",
      "metadata": {
        "id": "0NuSuiKCz-G3",
        "colab": {
          "base_uri": "https://localhost:8080/"
        },
        "outputId": "08bff9c4-32db-485b-f02f-fa3ad5f319df"
      },
      "source": [
        "# train for a single epoch\n",
        "model = get_model()\n",
        "model.compile(loss='binary_crossentropy', optimizer=Adam(0.001), metrics=['accuracy'])\n",
        "model.fit(x_train, y_train, batch_size=64, epochs=1, validation_data=(x_test, y_test));"
      ],
      "execution_count": null,
      "outputs": [
        {
          "output_type": "stream",
          "text": [
            "391/391 [==============================] - 14s 36ms/step - loss: 0.5960 - accuracy: 0.7044 - val_loss: 0.4683 - val_accuracy: 0.7967\n"
          ],
          "name": "stdout"
        }
      ]
    },
    {
      "cell_type": "code",
      "metadata": {
        "id": "iR3LPDlfz-G6",
        "colab": {
          "base_uri": "https://localhost:8080/"
        },
        "outputId": "9791541f-cd1c-4a18-d741-42e240b78409"
      },
      "source": [
        "# continue training for another epoch\n",
        "model.fit(x_train, y_train, batch_size=64, epochs=1, validation_data=(x_test, y_test));"
      ],
      "execution_count": null,
      "outputs": [
        {
          "output_type": "stream",
          "text": [
            "391/391 [==============================] - 14s 36ms/step - loss: 0.3725 - accuracy: 0.8463 - val_loss: 0.3438 - val_accuracy: 0.8587\n"
          ],
          "name": "stdout"
        }
      ]
    },
    {
      "cell_type": "code",
      "metadata": {
        "id": "I279GKIQz-HA",
        "colab": {
          "base_uri": "https://localhost:8080/"
        },
        "outputId": "cce94f6b-a20b-457d-8266-abf239325195"
      },
      "source": [
        "# continue training for another epoch\n",
        "model.fit(x_train, y_train, batch_size=64, epochs=1, validation_data=(x_test, y_test));"
      ],
      "execution_count": null,
      "outputs": [
        {
          "output_type": "stream",
          "text": [
            "391/391 [==============================] - 14s 35ms/step - loss: 0.3040 - accuracy: 0.8774 - val_loss: 0.4002 - val_accuracy: 0.8457\n"
          ],
          "name": "stdout"
        }
      ]
    },
    {
      "cell_type": "markdown",
      "metadata": {
        "id": "Rsr1Kveu1SVI"
      },
      "source": [
        "Este conjunto de dados é tão grande que poucas épocas já são suficientes para um bom desempenho.\n",
        "\n",
        "\n",
        "Para uma análise mais precisa seria interessante medir o desempenho num conjunto de validação diversas vezes ao longo de uma época."
      ]
    },
    {
      "cell_type": "markdown",
      "metadata": {
        "collapsed": true,
        "id": "CCjCZNBBz-HD"
      },
      "source": [
        "# 1D CNN\n",
        "\n",
        "Aqui uma rede convolucional 1D é usada (em conjunto com MaxPooling) para reduzir o tamanho das sequências e acelerar o treinamento."
      ]
    },
    {
      "cell_type": "code",
      "metadata": {
        "id": "XiL33NRr3K0b"
      },
      "source": [
        "from tensorflow.keras.layers import Conv1D, MaxPooling1D"
      ],
      "execution_count": null,
      "outputs": []
    },
    {
      "cell_type": "code",
      "metadata": {
        "id": "g1ddhVH4z-HF",
        "colab": {
          "base_uri": "https://localhost:8080/"
        },
        "outputId": "8750043f-b117-46a7-ad20-1808deb05492"
      },
      "source": [
        "# create the model\n",
        "def get_model():\n",
        "  model = Sequential(\n",
        "      [\n",
        "       Embedding(num_words, 32, input_length=input_len),\n",
        "       Conv1D(filters=32, kernel_size=3, padding='same', activation='relu'),\n",
        "       MaxPooling1D(pool_size=2),\n",
        "       LSTM(100),\n",
        "       Dense(1, activation='sigmoid')\n",
        "      ]\n",
        "  )\n",
        "  return model\n",
        "\n",
        "get_model().summary()"
      ],
      "execution_count": null,
      "outputs": [
        {
          "output_type": "stream",
          "text": [
            "Model: \"sequential_3\"\n",
            "_________________________________________________________________\n",
            "Layer (type)                 Output Shape              Param #   \n",
            "=================================================================\n",
            "embedding_3 (Embedding)      (None, 500, 32)           160000    \n",
            "_________________________________________________________________\n",
            "conv1d (Conv1D)              (None, 500, 32)           3104      \n",
            "_________________________________________________________________\n",
            "max_pooling1d (MaxPooling1D) (None, 250, 32)           0         \n",
            "_________________________________________________________________\n",
            "lstm_3 (LSTM)                (None, 100)               53200     \n",
            "_________________________________________________________________\n",
            "dense_3 (Dense)              (None, 1)                 101       \n",
            "=================================================================\n",
            "Total params: 216,405\n",
            "Trainable params: 216,405\n",
            "Non-trainable params: 0\n",
            "_________________________________________________________________\n"
          ],
          "name": "stdout"
        }
      ]
    },
    {
      "cell_type": "code",
      "metadata": {
        "id": "VGDwPYm7z-HI",
        "colab": {
          "base_uri": "https://localhost:8080/"
        },
        "outputId": "6ebb4547-2302-4e21-d4bf-e376423b6ab5"
      },
      "source": [
        "# train for a single epoch\n",
        "model = get_model()\n",
        "model.compile(loss='binary_crossentropy', optimizer=Adam(0.001), metrics=['accuracy'])\n",
        "model.fit(x_train, y_train, batch_size=64, epochs=1, validation_data=(x_test, y_test));"
      ],
      "execution_count": null,
      "outputs": [
        {
          "output_type": "stream",
          "text": [
            "391/391 [==============================] - 10s 25ms/step - loss: 0.4535 - accuracy: 0.7639 - val_loss: 0.3234 - val_accuracy: 0.8649\n"
          ],
          "name": "stdout"
        }
      ]
    },
    {
      "cell_type": "code",
      "metadata": {
        "id": "Pq3efQ93rJt8"
      },
      "source": [
        ""
      ],
      "execution_count": null,
      "outputs": []
    },
    {
      "cell_type": "markdown",
      "metadata": {
        "id": "uwAejZAEvEcd"
      },
      "source": [
        "# Outras variações\n",
        "\n",
        "* Substituir `LSTM` por `GRU`\n",
        "* Utilizar uma camada bidirecional, por exemplo `Bidirectional(GRU(100))`\n",
        "* Retornar as saídas de todos os timesteps, não apenas do último, e aplicar um pooling global ao longo dos timesteps:\n",
        "```python\n",
        "GRU(100, return_sequences=True),\n",
        "GlobalMaxPooling1D(), #ou GlobalAveragePooling1D()\n",
        "```\n",
        "* Adicionar mais camadas\n",
        "\n",
        "\n"
      ]
    },
    {
      "cell_type": "markdown",
      "metadata": {
        "id": "ohd_zGgzwvrR"
      },
      "source": [
        "# Usando embeddings de palavra pré-treinados\n",
        "\n",
        "Siga o tutorial em https://keras.io/examples/nlp/pretrained_word_embeddings/\n",
        "\n",
        "Além do GloVe usado no tutorial, outros embeddings de palavra populares incluem o Word2Vec e o FastText.\n",
        "\n",
        "Algumas bibliotecas que facilitam o uso de embeddings são o [spaCy](https://spacy.io) e o [Gensim](https://radimrehurek.com/gensim).\n",
        "\n",
        "Modelos mais modernos utilizam embeddings que dependem do contexto, como o famoso [BERT](https://en.wikipedia.org/wiki/BERT_(language_model)).\n",
        "\n",
        "Outros tutoriais interessantes podem ser encontrados aqui: https://keras.io/examples/nlp/"
      ]
    },
    {
      "cell_type": "code",
      "metadata": {
        "id": "SbEux4wAwx2N"
      },
      "source": [
        ""
      ],
      "execution_count": null,
      "outputs": []
    }
  ]
}