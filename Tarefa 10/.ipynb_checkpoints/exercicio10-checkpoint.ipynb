{
 "cells": [
  {
   "cell_type": "markdown",
   "metadata": {},
   "source": [
    "Universidade Federal de Santa Catarina<br>\n",
    "Departamento de Engenharia Elétrica e Eletrônica<br>\n",
    "EEL7514/EEL7513 - Introdução ao Aprendizado de Máquina\n",
    "$\\newcommand{\\bX}{\\mathbf{X}}$\n",
    "$\\newcommand{\\bw}{\\mathbf{w}}$\n",
    "$\\newcommand{\\by}{\\mathbf{y}}$\n",
    "$\\newcommand{\\bx}{\\mathbf{x}}$\n",
    "$\\newcommand{\\bU}{\\mathbf{U}}$\n",
    "$\\newcommand{\\bu}{\\mathbf{u}}$\n",
    "$\\newcommand{\\bT}{\\mathbf{T}}$\n",
    "$\\newcommand{\\RR}{\\mathbb{R}}$\n",
    "$\\newcommand{\\calS}{\\mathcal{S}}$\n",
    "\n",
    "\n",
    "# Exercício 10: Redes Convolucionais\n",
    "\n"
   ]
  },
  {
   "cell_type": "markdown",
   "metadata": {},
   "source": [
    "- Usando Keras/TensorFlow, treine (a partir do zero) uma rede convolucional nas bases MNIST, [Fashion-MNIST](https://github.com/zalandoresearch/fashion-mnist) e [CIFAR-10](https://en.wikipedia.org/wiki/CIFAR-10) (todos [disponíveis no Keras](https://keras.io/datasets/)). Tente conseguir uma acurácia de 99% no MNIST, 90% no Fashion-MNIST e 80% no CIFAR-10. Referências: [Tutorial 1](http://adventuresinmachinelearning.com/keras-tutorial-cnn-11-lines/) e [Tutorial 2](https://www.learnopencv.com/image-classification-using-convolutional-neural-networks-in-keras/).\n",
    "- Partindo de alguma [rede pré-treinada fornecida pelo Keras](https://keras.io/applications/), treine uma rede convolucional para [classificação entre gatos e cachorros](https://www.kaggle.com/c/dogs-vs-cats). Em que posição do ranking público (*Public Leaderboard*) a sua solução se encontra? Referências: [Tutorial 3](https://machinelearningmastery.com/how-to-use-transfer-learning-when-developing-convolutional-neural-network-models/) e [Tutorial 4](https://machinelearningmastery.com/how-to-develop-a-convolutional-neural-network-to-classify-photos-of-dogs-and-cats/)\n",
    "- Para alguma rede à sua escolha, visualize o que cada camada da rede \"aprendeu\"; mais precisamente, mostre exemplos de imagens de entrada que maximizam a ativação dos filtros em cada camada. Referência: [Tutorial 5](https://blog.keras.io/how-convolutional-neural-networks-see-the-world.html).\n",
    "\n",
    "### Dicas de implementação\n",
    "- Para reduzir o tempo de treinamento de uma rede convolucional, é muito importante fazer uso de uma GPU (Graphical Processing Unit), a qual é capaz de produzir um ganho de eficiência de cerca 10 a 20 vezes em comparação com o processamento em CPU. Caso não disponha de placa apropriada, você pode utilizar a plataforma Colab do Google: http://colab.research.google.com. **Certifique-se de selecionar a opção GPU no menu Runtime**.\n",
    "- Uma boa maneira de carregar dados no Colab é usando o Google Drive: https://colab.research.google.com/notebooks/io.ipynb."
   ]
  },
  {
   "cell_type": "markdown",
   "metadata": {},
   "source": [
    "MNIST Normal:"
   ]
  },
  {
   "cell_type": "code",
   "execution_count": null,
   "metadata": {},
   "outputs": [],
   "source": [
    "from __future__ import print_function\n",
    "\n",
    "import glob\n",
    "import math\n",
    "import os\n",
    "\n",
    "from IPython import display\n",
    "from matplotlib import cm\n",
    "from matplotlib import gridspec\n",
    "from matplotlib import pyplot as plt\n",
    "import numpy as np\n",
    "import pandas as pd\n",
    "import seaborn as sns\n",
    "from sklearn import metrics\n",
    "import tensorflow as tf\n",
    "from tensorflow.python.data import Dataset\n",
    "\n",
    "tf.logging.set_verbosity(tf.logging.ERROR)\n",
    "pd.options.display.max_rows = 10\n",
    "pd.options.display.float_format = '{:.1f}'.format\n",
    "\n",
    "mnist_dataframe = pd.read_csv(\n",
    "  \"https://download.mlcc.google.com/mledu-datasets/mnist_train_small.csv\",\n",
    "  sep=\",\",\n",
    "  header=None)\n",
    "\n",
    "# Use just the first 10,000 records for training/validation.\n",
    "mnist_dataframe = mnist_dataframe.head(10000)\n",
    "\n",
    "mnist_dataframe = mnist_dataframe.reindex(np.random.permutation(mnist_dataframe.index))\n",
    "mnist_dataframe.head()"
   ]
  }
 ],
 "metadata": {
  "kernelspec": {
   "display_name": "Python 3",
   "language": "python",
   "name": "python3"
  },
  "language_info": {
   "codemirror_mode": {
    "name": "ipython",
    "version": 3
   },
   "file_extension": ".py",
   "mimetype": "text/x-python",
   "name": "python",
   "nbconvert_exporter": "python",
   "pygments_lexer": "ipython3",
   "version": "3.7.3"
  }
 },
 "nbformat": 4,
 "nbformat_minor": 2
}
