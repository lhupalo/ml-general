{
 "cells": [
  {
   "cell_type": "markdown",
   "metadata": {},
   "source": [
    "Universidade Federal de Santa Catarina<br>\n",
    "Departamento de Engenharia Elétrica e Eletrônica<br>\n",
    "EEL7514/EEL7513/EEL410250 - Aprendizado de Máquina\n",
    "$\\newcommand{\\bX}{\\mathbf{X}}$\n",
    "$\\newcommand{\\bw}{\\mathbf{w}}$\n",
    "$\\newcommand{\\by}{\\mathbf{y}}$\n",
    "$\\newcommand{\\bx}{\\mathbf{x}}$\n",
    "$\\newcommand{\\RR}{\\mathbb{R}}$\n",
    "$\\newcommand{\\calS}{\\mathcal{S}}$\n",
    "\n",
    "\n",
    "# Exercício 5: SVM\n",
    "\n",
    "Neste exercício você irá construir classificadores usando máquinas de vetores de suporte (SVM), tando em sua versão linear quanto na versão baseada em kernels. Também serão abordadas técnicas de validação cruzada para avaliação de desempenho e busca de hiperparâmetros."
   ]
  },
  {
   "cell_type": "code",
   "execution_count": 1,
   "metadata": {},
   "outputs": [],
   "source": [
    "import numpy as np\n",
    "import matplotlib.pyplot as plt\n",
    "\n",
    "from sklearn.svm import SVC\n",
    "from sklearn.pipeline import make_pipeline\n",
    "from ipywidgets import interact\n",
    "\n",
    "def plot_data(X, y, colors=['bo','rx','gs','md','c^','yP']):\n",
    "    ''' Plot 1-D or 2-D classification dataset '''\n",
    "    assert len(X.shape) == 2 and len(y.shape) == 1\n",
    "    classes = np.unique(y)\n",
    "    assert len(classes) <= len(colors)\n",
    "    dim = X.shape[1]\n",
    "    assert 0 < dim <= 2\n",
    "    if dim == 1:\n",
    "        for i in range(len(classes)):\n",
    "            plt.plot(X[y==classes[i],0],np.zeros(np.sum(y==classes[i])),colors[i])\n",
    "        plt.gca().axes.get_yaxis().set_ticks([])\n",
    "    else:\n",
    "        for i in range(len(classes)):\n",
    "            plt.plot(X[y==classes[i],0],X[y==classes[i],1],colors[i])\n",
    "    return\n",
    "\n",
    "def plot_svm(model, X, heatmap=False, circles=True, N=100, gap=1e-9):\n",
    "    ''' Plot decision regions for a 1-D or 2-D binary SVM classifier '''\n",
    "    assert len(X.shape) == 2\n",
    "    dim = X.shape[1]\n",
    "    assert 0 < dim <= 2\n",
    "    x1_min, x1_max = X[:,0].min()-gap, X[:,0].max()+gap\n",
    "    if dim == 1:\n",
    "        x2_min, x2_max = -1, 1\n",
    "        N2 = 2\n",
    "    else:\n",
    "        x2_min, x2_max = X[:,1].min()-gap, X[:,1].max()+gap\n",
    "        N2 = N\n",
    "    xx1, xx2 = np.meshgrid(np.linspace(x1_min,x1_max,N), np.linspace(x2_min,x2_max,N2))\n",
    "    if dim == 1:\n",
    "        XX = np.c_[xx1.reshape(-1)]\n",
    "    else:\n",
    "        XX = np.c_[xx1.reshape(-1), xx2.reshape(-1)]\n",
    "    z = model.decision_function(XX)\n",
    "    assert len(z.shape) == 1\n",
    "    z = z.reshape(xx1.shape)\n",
    "    plt.contourf(xx1,xx2,np.sign(z),cmap=plt.cm.bwr,vmin=-3,vmax=3)\n",
    "    plt.contour(xx1,xx2,z,cmap=plt.cm.gray,vmin=np.inf,vmax=np.inf,levels=[0])\n",
    "    if heatmap:\n",
    "        a = np.max(np.abs(z))*2\n",
    "        plt.contourf(xx1,xx2,z,100,cmap=plt.cm.bwr,vmin=-a,vmax=a)\n",
    "    else:\n",
    "        plt.contourf(xx1,xx2,z,cmap=plt.cm.bwr,vmin=-3,vmax=3,levels=[-1,0,1])\n",
    "    if circles:\n",
    "        S = X[model.support_]\n",
    "        if dim == 1:\n",
    "            S = np.c_[S, np.zeros(S.shape[0])]\n",
    "        plt.plot(*S.T,'go',mfc='none',ms=12)\n",
    "    return"
   ]
  },
  {
   "cell_type": "markdown",
   "metadata": {},
   "source": [
    "# 1. Conjunto de dados #1\n",
    "\n",
    "O primeiro conjunto de dados pode ser carregado pelo comando abaixo. Por hora, não usaremos conjunto de teste."
   ]
  },
  {
   "cell_type": "code",
   "execution_count": 2,
   "metadata": {},
   "outputs": [
    {
     "name": "stdout",
     "output_type": "stream",
     "text": [
      "(100, 2) (100,)\n"
     ]
    },
    {
     "data": {
      "image/png": "[encoded data removed]",
      "text/plain": [
       "<Figure size 432x288 with 1 Axes>"
      ]
     },
     "metadata": {
      "needs_background": "light"
     },
     "output_type": "display_data"
    }
   ],
   "source": [
    "from sklearn.datasets import make_blobs\n",
    "X, y = make_blobs(n_samples=100, n_features=2, centers=[[0,0],[0,1]], cluster_std=0.2, random_state=14)\n",
    "X = X @ np.array([[2, -2], [1, 1]])\n",
    "X[52] = [-1, 1.15]\n",
    "X_original = X.copy() # save for later\n",
    "plot_data(X, y)\n",
    "print(X.shape, y.shape)"
   ]
  },
  {
   "cell_type": "markdown",
   "metadata": {},
   "source": [
    "Inicialmente treinaremos um SVM linear com $C=1$."
   ]
  },
  {
   "cell_type": "code",
   "execution_count": 3,
   "metadata": {},
   "outputs": [
    {
     "name": "stdout",
     "output_type": "stream",
     "text": [
      "Train accuracy: 99.0%\n"
     ]
    },
    {
     "data": {
      "image/png": "[encoded data removed]",
      "text/plain": [
       "<Figure size 432x288 with 1 Axes>"
      ]
     },
     "metadata": {
      "needs_background": "light"
     },
     "output_type": "display_data"
    }
   ],
   "source": [
    "model = SVC(C=1, kernel='linear')\n",
    "model.fit(X, y)\n",
    "print('Train accuracy: {:.1%}'.format(model.score(X, y)))\n",
    "plot_data(X, y)\n",
    "plot_svm(model, X)"
   ]
  },
  {
   "cell_type": "markdown",
   "metadata": {},
   "source": [
    "## SVM linear\n",
    "\n",
    "Os círculos no gráfico acima marcam os **vetores de suporte**. Note que, no classificador SVM, o classificador é definido exclusivamente a partir dos vetores de suporte, i.e., as demais amostras de treinamento que satisfazem a margem não tem impacto no classificador.\n",
    "\n",
    "1. Encontre os vetores de suporte, os índices dos vetores de suporte, e o vetor de coeficientes da solução dual ($\\alpha_i y_s^{(i)}$), conforme fornecidos pelo modelo treinado.\n",
    "1. A partir destes vetores, calcule matematicamente o vetor de pesos (da solução primal) $\\bw$ e o termo de *bias* $b$, dados por\n",
    "$$\n",
    "\\bw = \\sum_{i \\in \\calS} \\alpha_i y_s^{(i)} \\bx^{(i)}\n",
    "$$\n",
    "onde $\\calS$ denota o conjunto de índices dos vetores de suporte, e\n",
    "$$\n",
    "b = y_s^{(i^*)} - \\bw^T \\bx^{(i^*)}\n",
    "$$\n",
    "onde $i^* \\in \\calS$ denota qualquer índice tal que $0 < \\alpha_{i^*} < C$. Em seguida, confirme que os valores que você calculou são iguais aos fornecidos pelo modelo treinado (o termo $b$ até a segunda casa decimal).\n",
    "\n",
    "#### Dicas\n",
    "- Reveja as equações nos slides da disciplina.\n",
    "- Leia a documentação do SVC do sklearn em:\n",
    " - https://scikit-learn.org/stable/modules/svm.html#svc\n",
    " - https://scikit-learn.org/stable/modules/generated/sklearn.svm.SVC.html"
   ]
  },
  {
   "cell_type": "code",
   "execution_count": null,
   "metadata": {},
   "outputs": [],
   "source": []
  },
  {
   "cell_type": "markdown",
   "metadata": {},
   "source": [
    "### Escala dos atributos\n",
    "\n",
    "3. Ainda mantendo $C=1$, reescale os atributos conforme a célula abaixo e verifique o impacto no modelo treinado (reutilize o código da célula 3). Como você explica as diferenças?\n",
    "1. A partir dos resultados observados, que recomendação você daria para o treinamento de um classificador SVM?\n",
    "\n",
    "Ao final desta parte, **retorne os dados para a escala original**."
   ]
  },
  {
   "cell_type": "code",
   "execution_count": 4,
   "metadata": {},
   "outputs": [],
   "source": [
    "# Try each of them\n",
    "#d = [0.1,10]\n",
    "d = [1,1]\n",
    "#d = [10,0.1]\n",
    "X = X_original @ np.diag(d)\n",
    "\n",
    "# Train and evaluation code go here"
   ]
  },
  {
   "cell_type": "code",
   "execution_count": null,
   "metadata": {},
   "outputs": [],
   "source": []
  },
  {
   "cell_type": "markdown",
   "metadata": {},
   "source": [
    "### Variando $C$\n",
    "\n",
    "5. Com os dados de volta à escala original, varie o valor de $C$ (desde 0.1 ou menos até 100 ou mais) até obter 100% de acurácia.\n",
    "1. Analise os resultados observados:\n",
    " 1. O que acontece com a fronteira de decisão? Por quê? \n",
    " 1. Que interpretação pode ser dada para o parâmetro $C$? \n",
    " 1. O ajuste obtido parece ser adequado? Explique."
   ]
  },
  {
   "cell_type": "code",
   "execution_count": null,
   "metadata": {},
   "outputs": [],
   "source": []
  },
  {
   "cell_type": "markdown",
   "metadata": {},
   "source": [
    "### Avaliação de desempenho via validação cruzada $k$-fold\n",
    "\n",
    "Sabemos que o desempenho de treinamento não é em geral uma estimativa realista do desempenho de um modelo, devido à possibilidade de overfitting. No entanto, quando o conjunto de dados é pequeno, pode não ser interessante separar um conjunto de teste *hold-out*, porque mesmo este subconjunto de teste pode ainda ser muito pequeno para uma estimativa confiável. Por outro lado, se separarmos uma proporção grande para teste, estaremos reduzindo severamente o número de amostras de treinamento, possivelmente comprometendo o desempenho do modelo.\n",
    "\n",
    "Nessa situação, um bom *tradeoff* entre a qualidade do modelo e a qualidade da estimativa de desempenho do modelo pode ser obtido (ao custo de maior esforço computacional) usando a abordagem conhecida como **validação cruzada $k$-fold**: particionar os dados em $k$ partes e realizar $k$ treinamentos e testes, sempre testando em uma das partes um modelo treinado com as partes restantes. A estimativa de desempenho é a média de todos os testes. A comparação entre o desempenho médio e o desempenho em cada fold nos fornece uma ideia da variabilidade/incerteza da estimativa.\n",
    "\n",
    "Para aplicar essa abordagem você pode utilizar a função `sklearn.model_selection.cross_val_score`, definindo adequadamente o parâmetro `cv` (veja a documentação).\n",
    "\n",
    "10. Para o valor de $C$ correspondente a 100% de acurácia de treinamento (obtido no item anterior), realize uma validação cruzada 5-fold e mostre os resultados obtidos para cada fold. Calcule também a média e o desvio padrão da acurácia sobre as 5 realizações. (Note que não é necessário treinar o modelo antes de aplicar a validação cruzada, pois o treinamento está implícito no método.)\n",
    "1. Comente sobre os resultados observados. Em particular, esse parece ser um bom valor de $C$? Por quê?\n",
    "\n",
    "**Obs:** Quando a validação cruzada $k$-fold é usada para selecionar hiperparâmetros (como faremos no próximo conjunto de dados), sua estimativa de desempenho torna-se menos confiável. (OPCIONAL) Por quê?"
   ]
  },
  {
   "cell_type": "code",
   "execution_count": null,
   "metadata": {},
   "outputs": [],
   "source": []
  },
  {
   "cell_type": "markdown",
   "metadata": {},
   "source": [
    "### (OPCIONAL)\n",
    "\n",
    "Nesse exemplo, como dispomos da distribuição dos dados, podemos gerar um conjunto de teste (gigantesco) e avaliar o desempenho real do modelo para cada valor de $C$.\n",
    "\n",
    "12. (OPCIONAL) Compare as acurácias de treinamento e de teste para os casos $C=1$ e $C=100$. A sua intuição sobre overfitting estava correta?"
   ]
  },
  {
   "cell_type": "code",
   "execution_count": null,
   "metadata": {},
   "outputs": [],
   "source": [
    "X_test, y_test = make_blobs(n_samples=10000, n_features=2, centers=[[0,0],[0,1]], cluster_std=0.2, random_state=0)\n",
    "X_test = X_test @ np.array([[2, -2], [1, 1]])"
   ]
  },
  {
   "cell_type": "code",
   "execution_count": null,
   "metadata": {},
   "outputs": [],
   "source": []
  },
  {
   "cell_type": "markdown",
   "metadata": {},
   "source": [
    "## SVM com kernel RBF (gaussiano)\n",
    "\n",
    "Nesta parte você utilizará um kernel RBF para obter uma fronteira de decisão não-linear.\n",
    "\n",
    "Em geral, um kernel pode ser interpretado como uma função que mede a **similaridade** entre um par de amostras ($x^{(i)}$, $x^{(j)}$). No caso do kernel RBF, a similaridade é definida como uma função da distância euclidiana entre as amostras, mais precisamente:\n",
    "\n",
    "$$ K_{\\text{RBF}} \\left( x^{(i)}, x^{(j)} \\right) = \\exp \\left( - \\gamma \\| x^{(i)} - x^{(j)}\\|^2 \\right) $$\n",
    "\n",
    "O parâmetro $\\gamma$ (um **hiperparâmetro** do modelo) determina quão rápido a similaridade decai com a distância.\n",
    "\n",
    "Em contraste, o kernel linear não possui hiperparâmetros, sendo definido simplesmente como o produto interno entre amostras:\n",
    "\n",
    "$$ K_{\\text{linear}} \\left( x^{(i)}, x^{(j)} \\right) = {x^{(i)}}^T x^{(j)} $$\n",
    "\n",
    "O uso do kernel linear resulta no classificador linear visto anteriormente.\n",
    "\n",
    "Em qualquer caso, a função de decisão (score de confiança) é dada por\n",
    "$$\n",
    "z = \\bw^T \\bx + b =b + \\sum_{i \\in \\calS} \\alpha_i y_s^{(i)} K(\\bx^{(i)},\\bx)\n",
    "$$\n",
    "onde $\\calS$ denota o conjunto de índices dos vetores de suporte. Portanto, a predição é realizada calculando o kernel somente com relação aos vetores de suporte, i.e., apenas a similaridade com relação aos vetores de suporte é relevante."
   ]
  },
  {
   "cell_type": "markdown",
   "metadata": {},
   "source": [
    "### Usando o kernel da biblioteca\n",
    "\n",
    "13. Refaça a classificação utilizando o kernel `rbf` fornecido na própria função `SVC`, definindo e variando o parâmetro `gamma`. Para isso, complete o código fornecido abaixo. Considere um valor muito alto para $C$ (no mínimo `C = 1e8`), correspondendo a um problema praticamente sem regularização, e mantenha-o fixo, o que vai permitir melhor compreender o efeito do parâmetro $\\gamma$.\n",
    "1. Ao variar $\\gamma$, o que você observa? Como você interpreta o efeito deste parâmetro?\n",
    "\n",
    "#### Dicas\n",
    "- É recomendável variar $C$ e $\\gamma$ de forma exponencial, uma vez que estes assumem valores típicos em uma faixa muito ampla. Isso pode ser implementado, por exemplo, variando $\\log_{10} C$ ou $\\log_{10} \\gamma$ em escala linear.\n",
    "- A opção `heatmap` na função `plot_svm` é útil para visualização: as regiões mais vermelhas representam um valor de $z$ (discriminante ou função de decisão) mais positivo, enquanto as regiões mais azuis representam um valor de $z$ mais negativo; no entanto, a margem deixa de ser mostrada."
   ]
  },
  {
   "cell_type": "code",
   "execution_count": null,
   "metadata": {},
   "outputs": [],
   "source": [
    "@interact(log10C=(-6,9,0.5), log10gamma=(-6, 3, 0.1))\n",
    "def _(log10C=8, log10gamma=-6):\n",
    "    C = 10**log10C\n",
    "    gamma = 10**log10gamma\n",
    "    model = ???\n",
    "    model.fit(X, y)\n",
    "    print('Train accuracy: {:.1%}'.format(model.score(X, y)))\n",
    "    plt.title('C = {:g}, γ = {:g}'.format(C, gamma))\n",
    "    plot_data(X, y)\n",
    "    plot_svm(model, X, heatmap=True)"
   ]
  },
  {
   "cell_type": "markdown",
   "metadata": {},
   "source": [
    "### (OPCIONAL) Implementando seu próprio kernel\n",
    "\n",
    "15. (OPCIONAL) Em seguida, implemente o seu próprio kernel RBF usando a função `my_kernel` definida abaixo. Como exemplo, está implementado um kernel linear. \n",
    "\n",
    "O kernel customizado pode ser usado na função SVC através do comando:\n",
    "\n",
    "```python\n",
    "model = SVC(C=1, kernel=my_kernel)\n",
    "```\n",
    "\n",
    "Nesse caso, o parâmetro `gamma` deve ser definido como variável global (externa à função), para que você possa variá-lo, uma vez que a biblioteca sklearn não permite passar argumentos adicionais para a função de kernel customizado (em particular, o parâmetro `gamma` do `SVC` é ignorado para qualquer kernel customizado).\n",
    "\n",
    "Alternativamente, você pode definir a função de kernel usando uma função anônima:\n",
    "\n",
    "```python\n",
    "model = SVC(C=1, kernel=lambda X1, X2: my_kernel(X1,X2,gamma))\n",
    "```\n",
    "\n",
    "e definir `gamma` como um argumento adicional de `my_kernel`."
   ]
  },
  {
   "cell_type": "code",
   "execution_count": 5,
   "metadata": {},
   "outputs": [],
   "source": [
    "def my_kernel(X1, X2):\n",
    "    '''\n",
    "    Computes custom kernel.\n",
    "    \n",
    "    Parameters\n",
    "    ----------\n",
    "    X1 : array of shape (m1, n_features)\n",
    "    X2 : array of shape (m2, n_features)\n",
    "    \n",
    "    Returns\n",
    "    -------\n",
    "    kernel_matrix : array of shape (m1, m2)\n",
    "    \n",
    "    '''\n",
    "    \n",
    "    kernel_matrix = X1 @ X2.T\n",
    "    \n",
    "    return kernel_matrix"
   ]
  },
  {
   "cell_type": "markdown",
   "metadata": {},
   "source": [
    "Certifique-se que sua implementação está correta rodando o código abaixo."
   ]
  },
  {
   "cell_type": "code",
   "execution_count": 6,
   "metadata": {},
   "outputs": [
    {
     "name": "stdout",
     "output_type": "stream",
     "text": [
      "OK\n"
     ]
    }
   ],
   "source": [
    "from sklearn.metrics.pairwise import rbf_kernel\n",
    "X1 = np.random.randn(2,4)\n",
    "X2 = np.random.randn(3,4)\n",
    "gamma = 1/8\n",
    "sim = my_kernel(X1, X2)\n",
    "sim2 = rbf_kernel(X1, X2, gamma=gamma)\n",
    "if abs(sim - sim2).sum() < 1e-10: print('OK')"
   ]
  },
  {
   "cell_type": "markdown",
   "metadata": {},
   "source": [
    "16. (OPCIONAL) Em seguida, realize novamente a classificação para obter o mesmo resultado anterior.\n",
    "\n",
    "Após conseguir implementar corretamente um kernel RBF, **você pode voltar a usar o kernel da própria função SVC** (o qual tem provavelmente uma implementação mais eficiente)."
   ]
  },
  {
   "cell_type": "code",
   "execution_count": null,
   "metadata": {},
   "outputs": [],
   "source": []
  },
  {
   "cell_type": "markdown",
   "metadata": {},
   "source": [
    "# 2. Conjunto de dados #2\n",
    "\n",
    "O próximo conjunto de dados pode ser carregado pelo comando abaixo. Para fins didáticos, o conjunto de validação tem o mesmo tamanho do conjunto de treinamento e o conjunto de teste é extremamente grande."
   ]
  },
  {
   "cell_type": "code",
   "execution_count": 7,
   "metadata": {},
   "outputs": [
    {
     "data": {
      "image/png": "[encoded data removed]",
      "text/plain": [
       "<Figure size 432x288 with 1 Axes>"
      ]
     },
     "metadata": {
      "needs_background": "light"
     },
     "output_type": "display_data"
    }
   ],
   "source": [
    "from sklearn.datasets import make_moons\n",
    "np.random.seed(2019*2)\n",
    "X, y = make_moons(n_samples=200, noise=0.25)\n",
    "X_val, y_val = make_moons(n_samples=200, noise=0.25)\n",
    "X_test, y_test = make_moons(n_samples=10000, noise=0.25)\n",
    "plot_data(X, y)"
   ]
  },
  {
   "cell_type": "markdown",
   "metadata": {},
   "source": [
    "## Variando hiperparâmetros\n",
    "\n",
    "Aqui continuaremos utilizando um classificador SVM com kernel RBF.\n",
    "\n",
    "1. Para \"aquecer\" e ganhar algum *insight* sobre o problema, comece analisando algumas configurações de hiperparâmetros $(C, \\gamma)$ de forma exploratória, **sem utilizar o conjunto de validação**, apenas para visualizar o seu efeito na fronteira de decisão. Tente encontrar uma configuração que, na sua opinião, forneça uma explicação aparentemente mais \"natural\" possível para os dados. (Dica: utilize o mesmo código do item 1.10)"
   ]
  },
  {
   "cell_type": "code",
   "execution_count": null,
   "metadata": {},
   "outputs": [],
   "source": []
  },
  {
   "cell_type": "markdown",
   "metadata": {},
   "source": [
    "## Busca de hiperparâmetros: Grid search + Validação hold-out\n",
    "\n",
    "Agora, sua tarefa é determinar a melhor configuração de hiperparâmetros de acordo com o desempenho no conjunto de validação. Em outras palavras, você deve variar $C$ e $\\gamma$, sempre treinando o modelo no conjunto de treinamento e medindo o desempenho no conjunto de validação, até encontrar os valores que maximizam a acurácia de validação.\n",
    "\n",
    "Para isso, você pode definir uma lista de valores de $C$ (digamos, `list_C`) e uma lista de valores de $\\gamma$ (digamos, `list_gamma`), e variar $(C,\\gamma)$ dentro da grade `list_C` x `list_gamma` (este método é conhecido como [grid search](https://en.wikipedia.org/wiki/Hyperparameter_optimization#Grid_search)), o que a princípio poderia ser implementado com dois laços `for`. No entanto, para facilitar, usaremos a função `grid_search` fornecida abaixo, a qual internamente utiliza a função `GridSearchCV` da biblioteca `sklearn`, com a opção `cv=PredefinedSplit()`.\n",
    "\n",
    "2. Utilize a função `grid_search` fornecida abaixo para encontrar os melhores valores de $C$ e $\\gamma$.\n",
    "1. Em seguida, para os valores encontrados, treine novamente o modelo, trace o gráfico da região de decisão (com o conjunto de treinamento) e determine a acurácia nos conjuntos de treinamento, validação e teste.\n",
    "\n",
    "#### Dicas\n",
    "\n",
    "- A escolha fornecida abaixo para `param_grid` é apenas um (mau) exemplo! Certifique-se de usar valores mais interessantes.\n",
    "- Como mencionado anteriormente, para ambos $C$ e $\\gamma$, é recomendável utilizar valores que sigam uma progressão geométrica, i.e., regularmente espaçados no expoente. \n",
    "- A função `np.logspace` pode ser útil.\n",
    "- Se o melhor valor encontrado para um hiperparâmetro está na extremidade da faixa de busca, é recomendável estender a faixa.\n",
    "- É possível atingir 96% de acurácia de validação."
   ]
  },
  {
   "cell_type": "code",
   "execution_count": 10,
   "metadata": {},
   "outputs": [],
   "source": [
    "from sklearn.model_selection import GridSearchCV, PredefinedSplit\n",
    "def grid_search(model, param_grid, X_train, y_train, X_val, y_val):\n",
    "    val_index = [-1]*len(X_train) + [0]*len(X_val)\n",
    "    gs = GridSearchCV(model, param_grid, refit=False, cv=PredefinedSplit(val_index))\n",
    "    gs.fit(np.r_[X_train, X_val], np.r_[y_train, y_val])\n",
    "    return gs.best_params_"
   ]
  },
  {
   "cell_type": "code",
   "execution_count": 11,
   "metadata": {},
   "outputs": [
    {
     "name": "stdout",
     "output_type": "stream",
     "text": [
      "{'C': 0.001, 'gamma': 0.001}\n"
     ]
    }
   ],
   "source": [
    "# Example:\n",
    "param_grid = {'C':[0.001, 0.003, 0.01], 'gamma':[0.001, 1000]} # not a very good choice!\n",
    "# This will try the following sets of parameters:\n",
    "# [{'C': 0.001, 'gamma': 0.001},\n",
    "#  {'C': 0.001, 'gamma': 1000},\n",
    "#  {'C': 0.003, 'gamma': 0.001},\n",
    "#  {'C': 0.003, 'gamma': 1000},\n",
    "#  {'C': 0.01, 'gamma': 0.001},\n",
    "#  {'C': 0.01, 'gamma': 1000}]\n",
    "\n",
    "best_params = grid_search(SVC(kernel='rbf'), param_grid, X, y, X_val, y_val)\n",
    "print(best_params)\n",
    "\n",
    "C, gamma = best_params['C'], best_params['gamma']"
   ]
  },
  {
   "cell_type": "code",
   "execution_count": null,
   "metadata": {},
   "outputs": [],
   "source": []
  },
  {
   "cell_type": "markdown",
   "metadata": {},
   "source": [
    "## Busca de hiperparâmetros: Grid search + Validação cruzada $k$-fold\n",
    "\n",
    "Agora, suponha que você não possui ou não deseja separar um conjunto de validação (*hold-out*) como feito acima. Isto é, assuma que `X_val` e `y_val` não existem. Ainda assim é possível obter uma boa estimativa de desempenho---sem usar o conjunto de teste---e utilizá-la para a escolha de hiperparâmetros, utilizando validação cruzada $k$-fold (conforme feito no item 1.7). Esta estimativa pode ser combinada, por exemplo, com uma busca em grade para determinação de hiperparâmetros; em outras palavras, para cada configuração de hiperparâmetros da grade fornecida, deve-se realizar uma validação cruzada $k$-fold para estimativa de desempenho daquela configuração.\n",
    "\n",
    "A princípio, isto poderia ser implementado através de laços `for` (para busca em grade) combinados com a função `cross_val_score` para estimativa de desempenho. No entanto, para facilitar, vamos diretamente utilizar a biblioteca `sklearn`, a qual já possui uma implementação eficiente da busca em grade com validação cruzada, mais precisamente a função `sklearn.model_selection.GridSearchCV`. Essa abordagem é, na verdade, a forma mais comum de uso desta função (ao contrário da abordagem do item anterior).\n",
    "\n",
    "4. Realize uma busca de hiperparâmetros através de *grid search* com validação cruzada 5-fold. Lembre-se que você vai usar somente o conjunto de treinamento.\n",
    "1. Para a melhor configuração encontrada, determine a média e o desvio padrão da acurácia ao longo das 5 folds. (Dica: não é necessário treinar e testar novamente com `cross_val_score`; os resultados da `GridSearchCV` podem ser acessados usando as propriedades `.cv_results_` e `.best_index_`)\n",
    "1. Para a melhor configuração encontrada, treine novamente o modelo usando todo o conjunto de treinamento, trace o gráfico da região de decisão (com o conjunto de treinamento) e determine a acurácia nos conjuntos de treinamento e teste (lembre que não existe mais conjunto de validação separado).\n",
    "1. Comente sobre os resultados observados. Em particular, comente sobre o desempenho obtido nas duas abordagens de validação (hold-out e k-fold).\n",
    "\n",
    "#### Dicas\n",
    "\n",
    "- Estude a documentação da função `GridSearchCV`.\n",
    "- Para utilizar a função `GridSearchCV` você precisará definir o argumento `param_grid`. Por exemplo (lembre-se que este é um mau exemplo):\n",
    "\n",
    "```\n",
    "param_grid = {'C':[0.001, 0.003, 0.01], 'gamma':[0.001, 1000]}\n",
    "```\n",
    "\n",
    "- A opção `refit=True` permite utilizar o próprio objeto `gs = GridSearchCV()` como classificador, com funções `predict`, `score`, etc. No entanto, isso pode causar confusão. Inicialmente, é recomendável usar a função apenas para encontrar os melhores hiperparâmetros e então treinar separamente o modelo no conjunto de treinamento. Por garantia, utilize `refit=False`.\n",
    "- Se quiser remover os círculos ao redor dos vetores de suporte na função `plot_svm`, utilize a opção `circles=False`."
   ]
  },
  {
   "cell_type": "code",
   "execution_count": 12,
   "metadata": {},
   "outputs": [],
   "source": [
    "del X_val, y_val # just in case"
   ]
  },
  {
   "cell_type": "code",
   "execution_count": null,
   "metadata": {},
   "outputs": [],
   "source": []
  },
  {
   "cell_type": "markdown",
   "metadata": {},
   "source": [
    "## (OPCIONAL) Experimentando outros kernels\n",
    "\n",
    "8. (OPCIONAL) Experimente outros kernels de forma exploratória (usando `ipywidgets.interact`), como `kernel='poly'` e `kernel='sigmoid'`.\n",
    "\n",
    "#### Dicas\n",
    "- Para kernel polinomial, defina os parâmetros `degree=d`, `gamma='auto'`, `coef0=1` e varie `C` e `d`.\n",
    "- Para algumas configurações de hiperparâmetros (ex: valores altos de `d`), estes kernels alternativos podem levar um tempo excessivo para treinamento, sendo necessário interromper ou reiniciar o interpretador. Para este conjunto de dados, é razoável que o treinamento leve no máximo alguns segundos."
   ]
  },
  {
   "cell_type": "code",
   "execution_count": null,
   "metadata": {},
   "outputs": [],
   "source": []
  },
  {
   "cell_type": "markdown",
   "metadata": {},
   "source": [
    "# 3. Conjunto de dados #3\n",
    "\n",
    "O último conjunto de dados consiste de mensagens sobre tópicos diferentes e a tarefa consiste em identificar o tópico correspondente a cada mensagem. O conjunto completo possui 20 categorias; para uma classificação binária, utilizaremos apenas duas. Mais informações sobre o conjunto de dados podem ser encontradas em:\n",
    "\n",
    "https://scikit-learn.org/stable/datasets/index.html#the-20-newsgroups-text-dataset\n",
    "\n",
    "O conjunto de dados pode ser carregado pelos comandos abaixo."
   ]
  },
  {
   "cell_type": "code",
   "execution_count": 13,
   "metadata": {},
   "outputs": [],
   "source": [
    "from sklearn.datasets import fetch_20newsgroups\n",
    "categories = ['sci.med','soc.religion.christian']\n",
    "remove = ['headers','footers','quotes']\n",
    "data_train = fetch_20newsgroups(subset='train',categories=categories, remove=remove)\n",
    "data_test = fetch_20newsgroups(subset='test',categories=categories, remove=remove)\n",
    "categories = data_train['target_names'] # just in case it gets reversed\n",
    "msg = data_train['data']\n",
    "y = data_train['target']\n",
    "msg_test = data_test['data']\n",
    "y_test = data_test['target']"
   ]
  },
  {
   "cell_type": "code",
   "execution_count": 14,
   "metadata": {},
   "outputs": [
    {
     "name": "stdout",
     "output_type": "stream",
     "text": [
      "\n",
      "y = 0 (sci.med)\n",
      "-----\n",
      "I am currently doing a group research project on the drug Xanax.  I would\n",
      "be exponentially gracious to receive any and all information you could\n",
      "provide\n",
      "me regarding its usage, history, mechanism of reaction, side effects, and\n",
      "other pertinent information.  I don't care how long or how short your \n",
      "response is. \n",
      "\n",
      "\n",
      "y = 1 (soc.religion.christian)\n",
      "-----\n",
      "\n",
      "I have no doubt that God hears everybody's prayers.\n",
      "However, He does things His way, i.e. things will happen\n",
      "only if it is His will.\n",
      "\n",
      "Now if the question really is \"Does God grant everybody's wishes ?\"\n",
      "then you'll get a brutal shot of reality similar to when you didn't\n",
      "get that toy you wanted for Christmas. You just cannot expect\n",
      "to get everything you want in this world.\n",
      "\n",
      "--  \n",
      "\n"
     ]
    }
   ],
   "source": [
    "# A few samples\n",
    "for i in [9,8]:\n",
    "    print('\\ny = %d (%s)\\n-----' % (y[i],categories[y[i]]))\n",
    "    print(msg[i],'\\n')"
   ]
  },
  {
   "cell_type": "markdown",
   "metadata": {},
   "source": [
    "## Pré-processamento dos dados\n",
    "\n",
    "Para converter texto em vetores numéricos, utilizaremos o modelo _bag-of-words_ (BoW). Leia a seção 4.6-4.6.1 do livro do Watt para se familiar com este conceito."
   ]
  },
  {
   "cell_type": "code",
   "execution_count": 15,
   "metadata": {},
   "outputs": [
    {
     "name": "stdout",
     "output_type": "stream",
     "text": [
      "15704\n",
      "research\n",
      "  (0, 1670)\t1\n",
      "  (0, 1750)\t1\n",
      "  (0, 1837)\t2\n",
      "  (0, 1970)\t1\n",
      "  (0, 2680)\t1\n",
      "  (0, 3566)\t1\n",
      "  (0, 4933)\t1\n",
      "  (0, 5199)\t1\n",
      "  (0, 6202)\t1\n",
      "  (0, 6221)\t1\n",
      "  (0, 6344)\t1\n",
      "  (0, 6552)\t1\n",
      "  (0, 7284)\t1\n",
      "  (0, 8443)\t1\n",
      "  (0, 8559)\t1\n",
      "  (0, 9056)\t1\n",
      "  (0, 9204)\t2\n",
      "  (0, 9773)\t2\n",
      "  (0, 10175)\t1\n",
      "  (0, 10230)\t1\n",
      "  (0, 11238)\t1\n",
      "  (0, 11708)\t1\n",
      "  (0, 11743)\t1\n",
      "  (0, 13074)\t1\n",
      "  (0, 13147)\t1\n",
      "  (0, 13233)\t1\n",
      "  (0, 13330)\t1\n",
      "  (0, 13891)\t1\n",
      "  (0, 14706)\t1\n",
      "  (0, 14820)\t1\n",
      "  (0, 15204)\t1\n",
      "  (0, 15273)\t1\n",
      "  (0, 15434)\t1\n",
      "  (0, 15704)\t1\n",
      "  (0, 15775)\t1\n",
      "  (0, 16830)\t1\n",
      "  (0, 16876)\t1\n",
      "  (0, 18423)\t1\n",
      "  (0, 18658)\t1\n",
      "  (0, 19478)\t1\n",
      "  (0, 20317)\t1\n",
      "  (0, 20376)\t1\n",
      "  (0, 20456)\t1\n",
      "  (0, 20463)\t1\n"
     ]
    }
   ],
   "source": [
    "from sklearn.feature_extraction.text import CountVectorizer\n",
    "prep = make_pipeline(CountVectorizer())\n",
    "X = prep.fit_transform(msg)\n",
    "X_test = prep.transform(msg_test)\n",
    "voc = prep.steps[0][1].vocabulary_\n",
    "inv_voc = {i: v for v, i in voc.items()}\n",
    "\n",
    "print(voc['research'])\n",
    "print(inv_voc[15704])\n",
    "print(X[9].sorted_indices())"
   ]
  },
  {
   "cell_type": "markdown",
   "metadata": {},
   "source": [
    "## Classificação com SVM linear\n",
    "\n",
    "Para este exercício você usará apenas um SVM linear. Nesse caso, **não utilize a função `SVC` do sklearn**. Ao invés disso, utilize a função `LinearSVC`, a qual possui uma implementação otimizada para SVM linear.\n",
    "\n",
    "1. Treine um SVM linear e encontre os melhores hiperparâmetros (no caso, apenas $C$). Para avaliar o modelo, calcule a acurácia sobre o conjunto de treinamento utilizando validação cruzada 5-fold.\n",
    "1. Após a escolha de hiperparâmetros, treine o modelo sobre todo o conjunto de treinamento e calcule a acurácia no conjunto de teste (hold-out).\n",
    "\n",
    "#### Dicas\n",
    "- Você pode usar a função `cross_val_score` e experimentar manualmente cada valor de $C$ ou simplesmente usar a função `GridSearchCV`.\n",
    "- Ignore eventuais *warnings* sobre convergência do treinamento, que muito provavelmente correspondem a uma má escolha de $C$."
   ]
  },
  {
   "cell_type": "code",
   "execution_count": null,
   "metadata": {},
   "outputs": [],
   "source": []
  },
  {
   "cell_type": "markdown",
   "metadata": {},
   "source": [
    "## Aprimorando o modelo\n",
    "\n",
    "Agora, aprimore o modelo para conseguir pelo menos 94% de acurácia na validação cruzada 5-fold.\n",
    "\n",
    "3. Para aprimorar o modelo, considere, por exemplo, o escalonamento dos atributos. Faz sentido, por exemplo, usar um `StandardScaler`, considerando que $X$ é uma matriz esparsa? Ou faria mais sentido normalizar os atributos internamente a cada amostra? Esta última operação pode ser feita por qualquer das funções abaixo:\n",
    "```python\n",
    "sklearn.preprocessing.Normalizer\n",
    "sklearn.feature_extraction.text.TfidfTransformer(use_idf=False)\n",
    "```\n",
    "Explique o seu raciocínio e os resultados observados.\n",
    "1. Estude a documentação dos transformadores `CountVectorizer` e `TfidfTransformer` e veja se consegue atingir o desempenho desejado. (Dica: experimente `use_idf=True`.)\n",
    "1. Em seguida, treine o modelo no conjunto de treinamento completo e meça a acurácia no conjunto de teste."
   ]
  },
  {
   "cell_type": "code",
   "execution_count": null,
   "metadata": {},
   "outputs": [],
   "source": []
  },
  {
   "cell_type": "markdown",
   "metadata": {},
   "source": [
    "## Realizando predições\n",
    "\n",
    "Daqui para a frente não é necessário mais realizar treinamentos, apenas utilizar o modelo já treinado para realizar predições.\n",
    "\n",
    "6. Determine a predição fornecida pelo seu modelo para os seguintes exemplos (retirados da Wikipedia):\n",
    "\n",
    "```\n",
    "A vaccine is a biological preparation that provides active acquired immunity to a particular disease.\n",
    "```\n",
    "\n",
    "```\n",
    "Baptism is the ritual act, with the use of water, by which a person is admitted to membership of the Church. Beliefs on baptism vary among denominations.\n",
    "```"
   ]
  },
  {
   "cell_type": "code",
   "execution_count": null,
   "metadata": {},
   "outputs": [],
   "source": []
  },
  {
   "cell_type": "markdown",
   "metadata": {},
   "source": [
    "## Preditores mais importantes\n",
    "\n",
    "Como o modelo é um classificador linear, podemos determinar quais atributos são mais relevantes para a classificação analisando o vetor de pesos $\\bw$.\n",
    "\n",
    "7. Determine os 5 vocábulos mais preditivos de cada classe (i.e., 10 no total).\n",
    "1. Quantos atributos são considerados (pelo modelo) absolutamente irrelevantes para a classificação?"
   ]
  },
  {
   "cell_type": "code",
   "execution_count": null,
   "metadata": {},
   "outputs": [],
   "source": []
  },
  {
   "cell_type": "markdown",
   "metadata": {},
   "source": [
    "# (OPCIONAL)\n",
    "\n",
    "- Aplique um classificador SVM em outros conjuntos de dados, como por exemplo:\n",
    " - https://scikit-learn.org/stable/datasets/index.html#breast-cancer-dataset\n",
    " - https://scikit-learn.org/stable/datasets/index.html#olivetti-faces-dataset\n",
    " - https://archive.ics.uci.edu/ml/datasets/spambase"
   ]
  }
 ],
 "metadata": {
  "kernelspec": {
   "display_name": "Python 3",
   "language": "python",
   "name": "python3"
  },
  "language_info": {
   "codemirror_mode": {
    "name": "ipython",
    "version": 3
   },
   "file_extension": ".py",
   "mimetype": "text/x-python",
   "name": "python",
   "nbconvert_exporter": "python",
   "pygments_lexer": "ipython3",
   "version": "3.8.8"
  }
 },
 "nbformat": 4,
 "nbformat_minor": 4
}
